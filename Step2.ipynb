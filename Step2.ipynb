{
 "cells": [
  {
   "cell_type": "code",
   "execution_count": 2,
   "metadata": {},
   "outputs": [],
   "source": [
    "import torch\n",
    "import pandas as pd\n",
    "from torch import nn\n",
    "from pathlib import Path"
   ]
  },
  {
   "cell_type": "code",
   "execution_count": 3,
   "metadata": {},
   "outputs": [],
   "source": [
    "raw_dir = Path(\"~/datasets/nursingv1\")\n",
    "label_dir = Path(\"~/eating_json\")"
   ]
  },
  {
   "cell_type": "code",
   "execution_count": 9,
   "metadata": {},
   "outputs": [],
   "source": [
    "# Read session and label\n",
    "\n",
    "session_idx = 29\n",
    "\n",
    "df = pd.read_csv(\n",
    "    Path(raw_dir, f'{session_idx}', 'raw_data.csv'), \n",
    "    header=None,\n",
    "    usecols=[2,3,4]\n",
    ")"
   ]
  },
  {
   "cell_type": "code",
   "execution_count": 10,
   "metadata": {},
   "outputs": [
    {
     "data": {
      "text/html": [
       "<div>\n",
       "<style scoped>\n",
       "    .dataframe tbody tr th:only-of-type {\n",
       "        vertical-align: middle;\n",
       "    }\n",
       "\n",
       "    .dataframe tbody tr th {\n",
       "        vertical-align: top;\n",
       "    }\n",
       "\n",
       "    .dataframe thead th {\n",
       "        text-align: right;\n",
       "    }\n",
       "</style>\n",
       "<table border=\"1\" class=\"dataframe\">\n",
       "  <thead>\n",
       "    <tr style=\"text-align: right;\">\n",
       "      <th></th>\n",
       "      <th>2</th>\n",
       "      <th>3</th>\n",
       "      <th>4</th>\n",
       "    </tr>\n",
       "  </thead>\n",
       "  <tbody>\n",
       "    <tr>\n",
       "      <th>0</th>\n",
       "      <td>2.074219</td>\n",
       "      <td>-1.036133</td>\n",
       "      <td>9.851562</td>\n",
       "    </tr>\n",
       "    <tr>\n",
       "      <th>1</th>\n",
       "      <td>2.121094</td>\n",
       "      <td>-1.103516</td>\n",
       "      <td>9.835938</td>\n",
       "    </tr>\n",
       "    <tr>\n",
       "      <th>2</th>\n",
       "      <td>2.142578</td>\n",
       "      <td>-1.093750</td>\n",
       "      <td>9.843750</td>\n",
       "    </tr>\n",
       "    <tr>\n",
       "      <th>3</th>\n",
       "      <td>2.113281</td>\n",
       "      <td>-1.095703</td>\n",
       "      <td>9.828125</td>\n",
       "    </tr>\n",
       "    <tr>\n",
       "      <th>4</th>\n",
       "      <td>2.126953</td>\n",
       "      <td>-1.120117</td>\n",
       "      <td>9.812500</td>\n",
       "    </tr>\n",
       "    <tr>\n",
       "      <th>...</th>\n",
       "      <td>...</td>\n",
       "      <td>...</td>\n",
       "      <td>...</td>\n",
       "    </tr>\n",
       "    <tr>\n",
       "      <th>262995</th>\n",
       "      <td>-0.095764</td>\n",
       "      <td>3.072266</td>\n",
       "      <td>9.937500</td>\n",
       "    </tr>\n",
       "    <tr>\n",
       "      <th>262996</th>\n",
       "      <td>-0.564941</td>\n",
       "      <td>3.171875</td>\n",
       "      <td>9.492188</td>\n",
       "    </tr>\n",
       "    <tr>\n",
       "      <th>262997</th>\n",
       "      <td>-1.103516</td>\n",
       "      <td>2.968750</td>\n",
       "      <td>8.906250</td>\n",
       "    </tr>\n",
       "    <tr>\n",
       "      <th>262998</th>\n",
       "      <td>-1.328125</td>\n",
       "      <td>2.726562</td>\n",
       "      <td>8.585938</td>\n",
       "    </tr>\n",
       "    <tr>\n",
       "      <th>262999</th>\n",
       "      <td>-1.565430</td>\n",
       "      <td>2.603516</td>\n",
       "      <td>8.453125</td>\n",
       "    </tr>\n",
       "  </tbody>\n",
       "</table>\n",
       "<p>263000 rows × 3 columns</p>\n",
       "</div>"
      ],
      "text/plain": [
       "               2         3         4\n",
       "0       2.074219 -1.036133  9.851562\n",
       "1       2.121094 -1.103516  9.835938\n",
       "2       2.142578 -1.093750  9.843750\n",
       "3       2.113281 -1.095703  9.828125\n",
       "4       2.126953 -1.120117  9.812500\n",
       "...          ...       ...       ...\n",
       "262995 -0.095764  3.072266  9.937500\n",
       "262996 -0.564941  3.171875  9.492188\n",
       "262997 -1.103516  2.968750  8.906250\n",
       "262998 -1.328125  2.726562  8.585938\n",
       "262999 -1.565430  2.603516  8.453125\n",
       "\n",
       "[263000 rows x 3 columns]"
      ]
     },
     "execution_count": 10,
     "metadata": {},
     "output_type": "execute_result"
    }
   ],
   "source": [
    "df"
   ]
  },
  {
   "cell_type": "code",
   "execution_count": null,
   "metadata": {},
   "outputs": [],
   "source": [
    "# Useful Functions from old work\n"
   ]
  }
 ],
 "metadata": {
  "kernelspec": {
   "display_name": "Python 3.10.12 64-bit",
   "language": "python",
   "name": "python3"
  },
  "language_info": {
   "codemirror_mode": {
    "name": "ipython",
    "version": 3
   },
   "file_extension": ".py",
   "mimetype": "text/x-python",
   "name": "python",
   "nbconvert_exporter": "python",
   "pygments_lexer": "ipython3",
   "version": "3.10.12"
  },
  "orig_nbformat": 4,
  "vscode": {
   "interpreter": {
    "hash": "916dbcbb3f70747c44a77c7bcd40155683ae19c65e1c03b4aa3499c5328201f1"
   }
  }
 },
 "nbformat": 4,
 "nbformat_minor": 2
}
