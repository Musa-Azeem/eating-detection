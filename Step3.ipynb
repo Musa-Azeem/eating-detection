{
 "cells": [
  {
   "cell_type": "code",
   "execution_count": 6,
   "metadata": {},
   "outputs": [
    {
     "name": "stdout",
     "output_type": "stream",
     "text": [
      "The autoreload extension is already loaded. To reload it, use:\n",
      "  %reload_ext autoreload\n"
     ]
    }
   ],
   "source": [
    "%load_ext autoreload\n",
    "%autoreload 2"
   ]
  },
  {
   "cell_type": "code",
   "execution_count": 7,
   "metadata": {},
   "outputs": [],
   "source": [
    "import torch\n",
    "from torch import nn\n",
    "from pathlib import Path\n",
    "import matplotlib.pyplot as plt\n",
    "from torch.utils.data import TensorDataset, DataLoader\n",
    "from lib.modules import (\n",
    "    evaluate_loop, \n",
    "    read_and_window_session,\n",
    "    read_session,\n",
    "    train_loop,\n",
    "    optimization_loop,\n",
    "    predict_and_plot_pretty_session\n",
    ")\n",
    "from lib.utils import (\n",
    "    plot_and_save_cm,\n",
    "    summary\n",
    ")\n",
    "from lib.models import  MLP, MLP2hl\n",
    "from tqdm import tqdm\n",
    "import plotly.express as px\n",
    "from tabulate import tabulate"
   ]
  },
  {
   "cell_type": "code",
   "execution_count": null,
   "metadata": {},
   "outputs": [],
   "source": [
    "raw_dir = Path(\"/home/mmazeem/datasets/nursingv1\")\n",
    "label_dir = Path(\"/home/mmazeem/datasets/eating_labels\")\n",
    "WINSIZE = 101\n",
    "DEVICE = 'cuda'"
   ]
  },
  {
   "cell_type": "code",
   "execution_count": null,
   "metadata": {},
   "outputs": [],
   "source": [
    "train_sessions = [25, 67, 42]\n",
    "test_sessions = [58, 62]\n",
    "\n",
    "Xs = []\n",
    "ys = []\n",
    "\n",
    "for session_idx in train_sessions:\n",
    "    X,y = read_and_window_session(session_idx, WINSIZE, raw_dir, label_dir)\n",
    "\n",
    "    Xs.append(X)\n",
    "    ys.append(y)\n",
    "\n",
    "Xtr = torch.cat(Xs)\n",
    "ytr = torch.cat(ys)\n",
    "\n",
    "Xs = []\n",
    "ys = []\n",
    "\n",
    "for session_idx in test_sessions:\n",
    "    X,y = read_and_window_session(session_idx, WINSIZE, raw_dir, label_dir)\n",
    "\n",
    "    Xs.append(X)\n",
    "    ys.append(y)\n",
    "\n",
    "Xte = torch.cat(Xs)\n",
    "yte = torch.cat(ys)"
   ]
  },
  {
   "cell_type": "code",
   "execution_count": null,
   "metadata": {},
   "outputs": [],
   "source": [
    "model = MLP2hl([20,20], WINSIZE).to(DEVICE)\n",
    "optimizer = torch.optim.Adam(model.parameters())\n",
    "criterion = nn.BCEWithLogitsLoss()"
   ]
  },
  {
   "cell_type": "code",
   "execution_count": null,
   "metadata": {},
   "outputs": [],
   "source": [
    "trainloader = DataLoader(TensorDataset(Xtr, ytr), batch_size=64, shuffle=True)\n",
    "testloader = DataLoader(TensorDataset(Xte,yte), batch_size=64)\n",
    "\n",
    "optimization_loop(model, trainloader, testloader, criterion, optimizer, 10, DEVICE, Path('dev/mlp2hl'))"
   ]
  },
  {
   "cell_type": "code",
   "execution_count": null,
   "metadata": {},
   "outputs": [],
   "source": [
    "# model.load_state_dict(torch.load(Path('dev/mlp2hl/best_model.pt')))\n",
    "model.load_state_dict(torch.load(Path('dev/mlp2hl/best_model.pt')))"
   ]
  },
  {
   "cell_type": "code",
   "execution_count": null,
   "metadata": {},
   "outputs": [],
   "source": [
    "ys,metrics = evaluate_loop(model, criterion, trainloader, DEVICE)\n",
    "plot_and_save_cm(ys['true'], ys['pred'])\n",
    "summary(metrics)"
   ]
  },
  {
   "cell_type": "code",
   "execution_count": null,
   "metadata": {},
   "outputs": [],
   "source": [
    "ys,metrics = evaluate_loop(model, criterion, testloader, DEVICE)\n",
    "plot_and_save_cm(ys['true'], ys['pred'])\n",
    "summary(metrics)"
   ]
  },
  {
   "cell_type": "code",
   "execution_count": null,
   "metadata": {},
   "outputs": [],
   "source": [
    "test_session = test_sessions[0]\n",
    "\n",
    "predict_and_plot_pretty_session(\n",
    "    session_idx=test_session,\n",
    "    dim_factor=5,\n",
    "    datapath=raw_dir,\n",
    "    labelpath=label_dir,\n",
    "    winsize=WINSIZE,\n",
    "    model=model,\n",
    "    criterion=criterion,\n",
    "    batch_size=64,\n",
    "    device=DEVICE\n",
    ")"
   ]
  }
 ],
 "metadata": {
  "kernelspec": {
   "display_name": "Python 3.10.12 64-bit",
   "language": "python",
   "name": "python3"
  },
  "language_info": {
   "codemirror_mode": {
    "name": "ipython",
    "version": 3
   },
   "file_extension": ".py",
   "mimetype": "text/x-python",
   "name": "python",
   "nbconvert_exporter": "python",
   "pygments_lexer": "ipython3",
   "version": "3.10.12"
  },
  "vscode": {
   "interpreter": {
    "hash": "916dbcbb3f70747c44a77c7bcd40155683ae19c65e1c03b4aa3499c5328201f1"
   }
  }
 },
 "nbformat": 4,
 "nbformat_minor": 2
}
