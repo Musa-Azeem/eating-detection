{
 "cells": [
  {
   "cell_type": "code",
   "execution_count": 1,
   "metadata": {},
   "outputs": [],
   "source": [
    "%load_ext autoreload\n",
    "%autoreload 2"
   ]
  },
  {
   "cell_type": "code",
   "execution_count": 1,
   "metadata": {},
   "outputs": [],
   "source": [
    "import torch\n",
    "from torch import nn\n",
    "from pathlib import Path\n",
    "import matplotlib.pyplot as plt\n",
    "from torch.utils.data import TensorDataset, DataLoader\n",
    "from lib.modules import (\n",
    "    evaluate_loop, \n",
    "    read_and_window_session,\n",
    "    read_session,\n",
    "    train_loop,\n",
    "    optimization_loop\n",
    ")\n",
    "from lib.utils import (\n",
    "    plot_and_save_cm,\n",
    "    summary\n",
    ")\n",
    "from lib.models import  MLP, MLP2hl\n",
    "from tqdm import tqdm\n",
    "import plotly.express as px\n",
    "from tabulate import tabulate"
   ]
  },
  {
   "cell_type": "code",
   "execution_count": 2,
   "metadata": {},
   "outputs": [],
   "source": [
    "raw_dir = Path(\"/home/mmazeem/datasets/nursingv1\")\n",
    "label_dir = Path(\"/home/mmazeem/datasets/eating_labels\")\n",
    "WINSIZE = 505\n",
    "DEVICE = 'cuda'"
   ]
  },
  {
   "cell_type": "code",
   "execution_count": 3,
   "metadata": {},
   "outputs": [],
   "source": [
    "train_sessions = [25, 67]\n",
    "test_sessions = [58, 62]\n",
    "\n",
    "Xs = []\n",
    "ys = []\n",
    "\n",
    "for session_idx in train_sessions:\n",
    "    X,y = read_and_window_session(session_idx, WINSIZE, raw_dir, label_dir)\n",
    "\n",
    "    Xs.append(X)\n",
    "    ys.append(y)\n",
    "\n",
    "Xtr = torch.cat(Xs)\n",
    "ytr = torch.cat(ys)\n",
    "\n",
    "Xs = []\n",
    "ys = []\n",
    "\n",
    "for session_idx in test_sessions:\n",
    "    X,y = read_and_window_session(session_idx, WINSIZE, raw_dir, label_dir)\n",
    "\n",
    "    Xs.append(X)\n",
    "    ys.append(y)\n",
    "\n",
    "Xte = torch.cat(Xs)\n",
    "yte = torch.cat(ys)"
   ]
  },
  {
   "cell_type": "code",
   "execution_count": 7,
   "metadata": {},
   "outputs": [
    {
     "data": {
      "text/plain": [
       "torch.Size([329500, 1515])"
      ]
     },
     "execution_count": 7,
     "metadata": {},
     "output_type": "execute_result"
    }
   ],
   "source": [
    "class LSTM(nn.Module):\n",
    "    def __init__(self):\n",
    "        super().__init__()\n",
    "        self.p_size = 101\n",
    "        self.n_channels = 3\n",
    "\n",
    "        self.lstm = nn.LSTM(\n",
    "            input_size=self.p_size*self.n_channels,\n",
    "            hidden_size=64,\n",
    "            bias=False,\n",
    "            batch_first=True\n",
    "        )\n",
    "        self.mlp = nn.Sequential(\n",
    "            nn.Linear(in_features=64, out_features=10),\n",
    "            nn.ReLU(),\n",
    "            nn.Linear(in_features=10, out_features=1)\n",
    "        )\n",
    "\n",
    "    def partition_window(self, x, p_size, n_channels):\n",
    "        x = Xtr.view(-1, n_channels, WINSIZE)\n",
    "        x = x.transpose(1,2).view(-1, WINSIZE/p_size, p_size, n_channels)\n",
    "        x = x.transpose(2,3).flatten(start_dim=2)\n",
    "        return x\n",
    "\n",
    "    def forward(self, x):\n",
    "        x = self.partition_window(x, p_size=self.p_size, n_channels=self.n_channels)\n",
    "        o, (h,c) = self.lstm(x) # o is shape (batch_size, p_size, 64)\n",
    "        o = nn.ReLU()(o[:,-1,:])\n",
    "        logits = self.mlp(o)\n",
    "\n",
    "        return logits\n",
    "\n",
    "\n",
    "model = LSTM()\n",
    "optimizer = torch.optim.Adam(model.parameters())\n",
    "criterion = nn.BCEWithLogitsLoss()"
   ]
  }
 ],
 "metadata": {
  "kernelspec": {
   "display_name": "Python 3",
   "language": "python",
   "name": "python3"
  },
  "language_info": {
   "codemirror_mode": {
    "name": "ipython",
    "version": 3
   },
   "file_extension": ".py",
   "mimetype": "text/x-python",
   "name": "python",
   "nbconvert_exporter": "python",
   "pygments_lexer": "ipython3",
   "version": "3.10.12"
  }
 },
 "nbformat": 4,
 "nbformat_minor": 2
}
