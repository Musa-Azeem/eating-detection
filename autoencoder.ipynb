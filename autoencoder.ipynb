{
 "cells": [
  {
   "cell_type": "markdown",
   "metadata": {},
   "source": [
    "https://www.science.org/doi/10.1126/science.1127647\n",
    "\n",
    "https://github.com/L1aoXingyu/pytorch-beginner/blob/9c86be785c7c318a09cf29112dd1f1a58613239b/08-AutoEncoder/conv_autoencoder.py"
   ]
  },
  {
   "cell_type": "code",
   "execution_count": 1,
   "metadata": {},
   "outputs": [],
   "source": [
    "%load_ext autoreload\n",
    "%autoreload 2"
   ]
  },
  {
   "cell_type": "code",
   "execution_count": 2,
   "metadata": {},
   "outputs": [],
   "source": [
    "import pandas as pd\n",
    "import numpy as np\n",
    "import torch\n",
    "import matplotlib.pyplot as plt\n",
    "from torch import nn\n",
    "from pathlib import Path\n",
    "from torch.utils.data import TensorDataset, DataLoader\n",
    "from lib.modules import (\n",
    "    evaluate_loop, \n",
    "    pad_for_windowing,\n",
    "    window_session,\n",
    "    optimization_loop\n",
    ")\n",
    "from lib.models import LinearAutoencoder, ConvAutoencoder\n",
    "from tqdm import tqdm\n",
    "import plotly.express as px\n",
    "from datetime import timedelta\n",
    "from sklearn.model_selection import train_test_split"
   ]
  },
  {
   "cell_type": "code",
   "execution_count": 3,
   "metadata": {},
   "outputs": [],
   "source": [
    "WINSIZE = 101\n",
    "DEVICE = 'cuda:0'\n",
    "RAW_DIR = Path('/home/musa/datasets/eating_raw/')"
   ]
  },
  {
   "cell_type": "code",
   "execution_count": 4,
   "metadata": {},
   "outputs": [
    {
     "name": "stdout",
     "output_type": "stream",
     "text": [
      "11-07_20_24_32\n",
      "11-07_17_43_30\n",
      "11-08_08_27_30\n",
      "11-08_07_17_47\n",
      "11-10_08_54_24\n",
      "11-07_12_58_43\n",
      "11-01_20_34_28\n",
      "10-27_00_21_25\n",
      "11-07_17_29_01\n",
      "11-01_20_54_52\n",
      "11-07_15_03_24\n",
      "10-27_09_45_42\n",
      "11-02_19_28_19\n",
      "10-28_13_18_42\n",
      "10-27_00_20_15\n"
     ]
    }
   ],
   "source": [
    "recordings = []\n",
    "for rec_dir in RAW_DIR.iterdir():\n",
    "    recordings.append(rec_dir)\n",
    "    print(rec_dir.name)"
   ]
  },
  {
   "cell_type": "code",
   "execution_count": 5,
   "metadata": {},
   "outputs": [
    {
     "name": "stdout",
     "output_type": "stream",
     "text": [
      "Index: 0, Date: 11-07_20_24_32, nSamples: 30117, Time Elapsed: 0:04:49.392967\n",
      "Index: 1, Date: 11-07_17_43_30, nSamples: 1005447, Time Elapsed: 2:41:00.547341\n",
      "Index: 2, Date: 11-08_08_27_30, nSamples: 5125044, Time Elapsed: 1 day, 6:08:45.221686\n",
      "Index: 3, Date: 11-08_07_17_47, nSamples: 338215, Time Elapsed: 0:54:09.386096\n",
      "Index: 4, Date: 11-10_08_54_24, nSamples: 1370732, Time Elapsed: 5:06:32.989927\n",
      "Index: 5, Date: 11-07_12_58_43, nSamples: 776721, Time Elapsed: 2:04:21.712932\n",
      "Index: 6, Date: 11-01_20_34_28, nSamples: 127133, Time Elapsed: 0:20:21.474008\n",
      "Index: 7, Date: 10-27_00_21_25, nSamples: 260457, Time Elapsed: 0:51:35.645162\n",
      "Index: 8, Date: 11-07_17_29_01, nSamples: 90052, Time Elapsed: 0:14:25.199006\n",
      "Index: 9, Date: 11-01_20_54_52, nSamples: 4080424, Time Elapsed: 22:11:22.872910\n",
      "Index: 10, Date: 11-07_15_03_24, nSamples: 696054, Time Elapsed: 1:51:27.930080\n",
      "Index: 11, Date: 10-27_09_45_42, nSamples: 2854125, Time Elapsed: 7:37:03.002257\n",
      "Index: 12, Date: 11-02_19_28_19, nSamples: 9274120, Time Elapsed: 2 days, 14:45:07.943559\n",
      "Index: 13, Date: 10-28_13_18_42, nSamples: 19536627, Time Elapsed: 4 days, 5:58:05.118965\n",
      "Index: 14, Date: 10-27_00_20_15, nSamples: 6919, Time Elapsed: 0:01:06.511446\n"
     ]
    }
   ],
   "source": [
    "accelerations = []\n",
    "for session_dir in recordings:\n",
    "    accel_file = session_dir / f'acceleration-{session_dir.name}.csv'\n",
    "    acceleration = pd.read_csv(accel_file,skiprows=1).rename({'x': 'x_acc', 'y': 'y_acc', 'z': 'z_acc'}, axis=1)\n",
    "    # acceleration = acceleration.dropna()\n",
    "\n",
    "    acceleration_start_time_seconds = float(pd.read_csv(session_dir / accel_file, nrows=1,header=None).iloc[0,0].split()[-1])/1000\n",
    "    acceleration.timestamp = ((acceleration.timestamp - acceleration.timestamp[0])*1e-9)+acceleration_start_time_seconds # get timestamp in seconds\n",
    "\n",
    "    accelerations.append(acceleration)\n",
    "\n",
    "    print(f'Index: {len(accelerations)-1}, Date: {session_dir.name}, nSamples: {len(acceleration)}, Time Elapsed: {timedelta(seconds=acceleration.timestamp.iloc[-1] - acceleration.timestamp.iloc[0])}')\n"
   ]
  },
  {
   "cell_type": "code",
   "execution_count": null,
   "metadata": {},
   "outputs": [],
   "source": [
    "dim_amt = 5\n",
    "i = 5\n",
    "fig = px.line(accelerations[i][::dim_amt], x=accelerations[i].index[::dim_amt], y=['x_acc','y_acc','z_acc'])\n",
    "fig.show(renderer='browser')"
   ]
  },
  {
   "cell_type": "code",
   "execution_count": 6,
   "metadata": {},
   "outputs": [
    {
     "name": "stdout",
     "output_type": "stream",
     "text": [
      "torch.Size([30117, 303])\n",
      "torch.Size([1005447, 303])\n",
      "torch.Size([338215, 303])\n",
      "torch.Size([1370732, 303])\n",
      "torch.Size([776721, 303])\n",
      "torch.Size([127133, 303])\n",
      "torch.Size([260457, 303])\n",
      "torch.Size([90052, 303])\n",
      "torch.Size([4080424, 303])\n",
      "torch.Size([696054, 303])\n",
      "torch.Size([2854125, 303])\n",
      "torch.Size([6919, 303])\n"
     ]
    }
   ],
   "source": [
    "skip_idxs = [2, 12, 13]\n",
    "\n",
    "test_idxs = [1, 5,10]\n",
    "Xtr = []\n",
    "Xte = []\n",
    "\n",
    "for i,accel in enumerate(accelerations):\n",
    "    if i in skip_idxs:\n",
    "        continue\n",
    "\n",
    "    X = torch.Tensor(accel[['x_acc','y_acc','z_acc']].values)\n",
    "    X = pad_for_windowing(X, WINSIZE)\n",
    "    X = window_session(X, WINSIZE)\n",
    "    print(X.shape)\n",
    "\n",
    "    if i in test_idxs:\n",
    "        Xte.append(X)\n",
    "    else:\n",
    "        Xtr.append(X)\n",
    "\n",
    "Xtr = torch.cat(Xtr)\n",
    "Xte = torch.cat(Xte)\n",
    "\n",
    "trainloader = DataLoader(TensorDataset(Xtr), batch_size=64, shuffle=True)\n",
    "testloader = DataLoader(TensorDataset(Xte), batch_size=64)\n",
    "\n",
    "torch.save(trainloader, 'pytorch_datasets/trainloader_11-10-23.pt')\n",
    "torch.save(testloader, 'pytorch_datasets/testloader_11-10-23.pt')"
   ]
  },
  {
   "cell_type": "code",
   "execution_count": 7,
   "metadata": {},
   "outputs": [],
   "source": [
    "model = ConvAutoencoder(winsize=WINSIZE).to(DEVICE)\n",
    "optimizer = torch.optim.Adam(model.parameters(), lr=3e-4)\n",
    "criterion = nn.MSELoss()"
   ]
  },
  {
   "cell_type": "code",
   "execution_count": null,
   "metadata": {},
   "outputs": [],
   "source": [
    "losses = []\n",
    "test_losses = []\n",
    "pbar = tqdm(range(10))\n",
    "for epoch in pbar:\n",
    "    lossi = 0\n",
    "    test_lossi = 0\n",
    "\n",
    "    for X in trainloader:\n",
    "        X = X[0].to(DEVICE)\n",
    "\n",
    "        # Foward Pass\n",
    "        logits = model(X)\n",
    "        loss = criterion(logits, X)\n",
    "\n",
    "        # Backwards Pass\n",
    "        optimizer.zero_grad()\n",
    "        loss.backward()\n",
    "        optimizer.step()\n",
    "\n",
    "        # Sum Loss\n",
    "        lossi += loss.item()\n",
    "    \n",
    "    # Test model\n",
    "    for X in testloader:\n",
    "        X = X[0].to(DEVICE)\n",
    "        logits = model(X)\n",
    "        test_lossi += criterion(logits, X).item()\n",
    "\n",
    "    losses.append(lossi/len(trainloader))\n",
    "    test_losses.append(test_lossi/len(testloader))\n",
    "    pbar.set_description(f'Epoch {epoch}: Train Loss: {losses[-1]:.5}, Test Loss: {test_losses[-1]:.5}')\n",
    "\n",
    "    plt.plot(losses)\n",
    "    plt.plot(test_losses)"
   ]
  },
  {
   "cell_type": "code",
   "execution_count": null,
   "metadata": {},
   "outputs": [],
   "source": [
    "torch.save(model.state_dict(), 'dev/autoencorder.pt')"
   ]
  },
  {
   "cell_type": "markdown",
   "metadata": {},
   "source": [
    "# Evaluate"
   ]
  },
  {
   "cell_type": "code",
   "execution_count": 4,
   "metadata": {},
   "outputs": [],
   "source": [
    "testloader = torch.load('pytorch_datasets/testloader_11-10-23.pt')\n",
    "trainloader = torch.load('pytorch_datasets/trainloader_11-10-23.pt')"
   ]
  },
  {
   "cell_type": "code",
   "execution_count": 8,
   "metadata": {},
   "outputs": [
    {
     "data": {
      "text/plain": [
       "<All keys matched successfully>"
      ]
     },
     "execution_count": 8,
     "metadata": {},
     "output_type": "execute_result"
    }
   ],
   "source": [
    "model.load_state_dict(torch.load('dev/autoencoder/best_model-1.pt'))"
   ]
  },
  {
   "cell_type": "code",
   "execution_count": 14,
   "metadata": {},
   "outputs": [
    {
     "name": "stderr",
     "output_type": "stream",
     "text": [
      "100%|██████████| 21418/21418 [00:08<00:00, 2417.36it/s]\n"
     ]
    }
   ],
   "source": [
    "# Recreate a signal with trained model\n",
    "\n",
    "acceleration = accelerations[4]\n",
    "\n",
    "Xte = torch.Tensor(acceleration[['x_acc','y_acc','z_acc']].values)\n",
    "Xte = pad_for_windowing(Xte, WINSIZE)\n",
    "Xte = window_session(Xte, WINSIZE)\n",
    "\n",
    "testloader = DataLoader(TensorDataset(Xte), batch_size=64)\n",
    "\n",
    "Xpred = []\n",
    "for X in tqdm(testloader):\n",
    "    X = X[0].to(DEVICE)\n",
    "    logits = model(X)\n",
    "    Xpred.append(logits)\n",
    "\n",
    "Xpred = torch.cat(Xpred)\n",
    "Xpred = Xpred.view(-1,3,101)[:,:,50].T # unwindow\n",
    "\n",
    "acceleration['x_pred'] = Xpred[0].cpu().detach()\n",
    "acceleration['y_pred'] = Xpred[1].cpu().detach()\n",
    "acceleration['z_pred'] = Xpred[2].cpu().detach()"
   ]
  },
  {
   "cell_type": "code",
   "execution_count": 15,
   "metadata": {},
   "outputs": [],
   "source": [
    "dim_amt = 5\n",
    "fig = px.line(acceleration[::dim_amt], x=acceleration.index[::dim_amt], y=['x_acc','y_acc','z_acc', 'x_pred', 'y_pred', 'z_pred'])\n",
    "fig.show(renderer='browser')"
   ]
  }
 ],
 "metadata": {
  "kernelspec": {
   "display_name": "Python 3.10.12 ('env': venv)",
   "language": "python",
   "name": "python3"
  },
  "language_info": {
   "codemirror_mode": {
    "name": "ipython",
    "version": 3
   },
   "file_extension": ".py",
   "mimetype": "text/x-python",
   "name": "python",
   "nbconvert_exporter": "python",
   "pygments_lexer": "ipython3",
   "version": "3.10.12"
  },
  "vscode": {
   "interpreter": {
    "hash": "07a7e9baaa56ad5291b67d7a98d93b7d3a1f6016f598f84e49730f5552732cf1"
   }
  }
 },
 "nbformat": 4,
 "nbformat_minor": 2
}
