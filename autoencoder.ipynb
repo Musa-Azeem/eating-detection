{
 "cells": [
  {
   "cell_type": "markdown",
   "metadata": {},
   "source": [
    "https://www.science.org/doi/10.1126/science.1127647\n",
    "\n",
    "https://github.com/L1aoXingyu/pytorch-beginner/blob/9c86be785c7c318a09cf29112dd1f1a58613239b/08-AutoEncoder/conv_autoencoder.py"
   ]
  },
  {
   "cell_type": "code",
   "execution_count": 2,
   "metadata": {},
   "outputs": [],
   "source": [
    "%load_ext autoreload\n",
    "%autoreload 2"
   ]
  },
  {
   "cell_type": "code",
   "execution_count": 40,
   "metadata": {},
   "outputs": [],
   "source": [
    "import pandas as pd\n",
    "import numpy as np\n",
    "import torch\n",
    "import matplotlib.pyplot as plt\n",
    "from torch import nn\n",
    "from pathlib import Path\n",
    "from torch.utils.data import TensorDataset, DataLoader\n",
    "from lib.modules import (\n",
    "    evaluate_loop, \n",
    "    pad_for_windowing,\n",
    "    window_session,\n",
    "    optimization_loop\n",
    ")\n",
    "from tqdm import tqdm"
   ]
  },
  {
   "cell_type": "code",
   "execution_count": 9,
   "metadata": {},
   "outputs": [],
   "source": [
    "WINSIZE = 101\n",
    "DEVICE = 'cuda'\n",
    "RAW_DIR = Path('/home/mmazeem/datasets/eating_raw/')"
   ]
  },
  {
   "cell_type": "code",
   "execution_count": 17,
   "metadata": {},
   "outputs": [
    {
     "name": "stdout",
     "output_type": "stream",
     "text": [
      "andrew-2023-11-01_15_49_48\n",
      "andrew-2023-10-26_15_32_20\n"
     ]
    }
   ],
   "source": [
    "recordings = []\n",
    "for rec_dir in RAW_DIR.iterdir():\n",
    "    recordings.append(rec_dir)\n",
    "    print(rec_dir.name)"
   ]
  },
  {
   "cell_type": "code",
   "execution_count": 18,
   "metadata": {},
   "outputs": [],
   "source": [
    "session_dir = recordings[0]\n",
    "acceleration = pd.read_csv(session_dir / 'acceleration.csv',skiprows=1)\n",
    "acceleration_start_time_seconds = float(pd.read_csv(session_dir / 'acceleration.csv',nrows=1,header=None).iloc[0,0].split()[-1])/1000\n",
    "acceleration.timestamp = ((acceleration.timestamp - acceleration.timestamp[0])*1e-9)+acceleration_start_time_seconds\n",
    "acceleration = acceleration.dropna()"
   ]
  },
  {
   "cell_type": "code",
   "execution_count": 27,
   "metadata": {},
   "outputs": [],
   "source": [
    "Xte = torch.Tensor(acceleration[['x','y','z']].values)\n",
    "Xte = pad_for_windowing(Xte, WINSIZE)\n",
    "Xte = window_session(Xte, WINSIZE)\n",
    "trainloader = DataLoader(TensorDataset(Xte), batch_size=64, shuffle=True)"
   ]
  },
  {
   "cell_type": "code",
   "execution_count": 35,
   "metadata": {},
   "outputs": [],
   "source": [
    "# First: Autoencoder reduces input to 3 dimensions\n",
    "\n",
    "class Autoencoder(nn.Module):\n",
    "    def __init__(self, winsize):\n",
    "        super(Autoencoder, self).__init__()\n",
    "        self.encoder = nn.Sequential(\n",
    "            nn.Linear(winsize*3, 128),\n",
    "            nn.ReLU(),\n",
    "            nn.Linear(128, 64),\n",
    "            nn.ReLU(), \n",
    "            nn.Linear(64, 12), \n",
    "            nn.ReLU(True), \n",
    "            nn.Linear(12, 3)\n",
    "        )\n",
    "        self.decoder = nn.Sequential(\n",
    "            nn.Linear(3, 12),\n",
    "            nn.ReLU(),\n",
    "            nn.Linear(12, 64),\n",
    "            nn.ReLU(),\n",
    "            nn.Linear(64, 128),\n",
    "            nn.ReLU(), \n",
    "            nn.Linear(128, winsize*3)\n",
    "        )\n",
    "\n",
    "    def forward(self, x):\n",
    "        x = self.encoder(x)\n",
    "        x = self.decoder(x)\n",
    "        return x\n",
    "    \n",
    "model = Autoencoder(winsize=WINSIZE).to(DEVICE)\n",
    "optimizer = torch.optim.Adam(model.parameters(), lr=3e-4)\n",
    "criterion = nn.BCEWithLogitsLoss()"
   ]
  },
  {
   "cell_type": "code",
   "execution_count": 41,
   "metadata": {},
   "outputs": [
    {
     "name": "stderr",
     "output_type": "stream",
     "text": [
      "  0%|          | 0/10 [00:00<?, ?it/s]"
     ]
    }
   ],
   "source": [
    "losses = []\n",
    "pbar = tqdm(range(10))\n",
    "for epoch in pbar:\n",
    "    lossi = 0\n",
    "    for X in trainloader:\n",
    "        X = X[0].to(DEVICE)\n",
    "\n",
    "        logits = model(X)\n",
    "        loss = criterion(logits, X)\n",
    "\n",
    "        optimizer.zero_grad()\n",
    "        loss.backward()\n",
    "        optimizer.step()\n",
    "\n",
    "        lossi += loss.item()\n",
    "\n",
    "    losses.append(loss/len(trainloader))\n",
    "    pbar.set_description(f'Epoch {epoch}: Train Loss: {losses[-1]:.5}')\n",
    "\n",
    "plt.plot(losses)"
   ]
  }
 ],
 "metadata": {
  "kernelspec": {
   "display_name": "Python 3",
   "language": "python",
   "name": "python3"
  },
  "language_info": {
   "codemirror_mode": {
    "name": "ipython",
    "version": 3
   },
   "file_extension": ".py",
   "mimetype": "text/x-python",
   "name": "python",
   "nbconvert_exporter": "python",
   "pygments_lexer": "ipython3",
   "version": "3.10.12"
  }
 },
 "nbformat": 4,
 "nbformat_minor": 2
}
