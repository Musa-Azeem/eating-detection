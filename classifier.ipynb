{
 "cells": [
  {
   "cell_type": "code",
   "execution_count": 1,
   "metadata": {},
   "outputs": [],
   "source": [
    "%load_ext autoreload\n",
    "%autoreload 2"
   ]
  },
  {
   "cell_type": "code",
   "execution_count": 2,
   "metadata": {},
   "outputs": [],
   "source": [
    "from lib.models import ResNetClassifier, ResBlock\n",
    "from torch import nn\n",
    "from lib.data.dataloading import load_nursing\n",
    "from pathlib import Path\n",
    "from lib.modules import optimization_loop, evaluate_loop\n",
    "import torch\n",
    "import matplotlib.pyplot as plt\n",
    "from sklearn.metrics import precision_recall_fscore_support, confusion_matrix\n",
    "from lib.utils import plot_and_save_cm\n",
    "import seaborn as sns\n",
    "from tabulate import tabulate\n"
   ]
  },
  {
   "cell_type": "code",
   "execution_count": 3,
   "metadata": {},
   "outputs": [],
   "source": [
    "nursing_raw_dir = Path(\"/home/musa/datasets/nursingv1\")\n",
    "nursing_label_dir = Path(\"/home/musa/datasets/eating_labels\")\n",
    "DEVICE = 'cuda:1'"
   ]
  },
  {
   "cell_type": "code",
   "execution_count": 4,
   "metadata": {},
   "outputs": [
    {
     "name": "stdout",
     "output_type": "stream",
     "text": [
      "Using all available sessions: [11, 12, 13, 14, 16, 17, 18, 19, 20, 21, 22, 23, 24, 25, 26, 27, 28, 29, 30, 31, 32, 33, 35, 36, 37, 38, 39, 40, 41, 42, 44, 46, 47, 48, 49, 50, 52, 53, 54, 56, 57, 58, 59, 60, 61, 62, 63, 64, 65, 66, 67, 68, 69]\n",
      "Train sessions: [44, 64, 31, 47, 17, 25, 26, 61, 48, 37, 23, 58, 28, 68, 57, 66, 69, 20, 63, 42, 38, 41, 11, 27, 52, 21] - total length: 4136000\n",
      "Test sessions: [32, 14, 62, 29, 46, 50, 56, 39, 33, 54, 36, 49, 19, 18, 59, 13, 67, 60, 22, 53, 40, 30, 16, 12, 24, 65, 35] - total length: 4416000\n"
     ]
    }
   ],
   "source": [
    "winsize = 1001\n",
    "nursing_trainloader, nursing_testloader = load_nursing(\n",
    "    nursing_raw_dir, \n",
    "    nursing_label_dir, \n",
    "    winsize=winsize, \n",
    "    # session_idxs=[50, 52],\n",
    "    # n_sessions=24, \n",
    "    test_size=0.5, \n",
    "    batch_size=512,\n",
    "    # shuffle_test=True\n",
    ")"
   ]
  },
  {
   "cell_type": "code",
   "execution_count": 5,
   "metadata": {},
   "outputs": [
    {
     "name": "stdout",
     "output_type": "stream",
     "text": [
      "10953057\n"
     ]
    }
   ],
   "source": [
    "model = ResNetClassifier(winsize, 3, (8,8,16,32,64,128,256,512)).to(DEVICE)\n",
    "optimizer = torch.optim.Adam(model.parameters(), lr=3e-4)\n",
    "criterion = nn.BCEWithLogitsLoss()\n",
    "print(sum([p.numel() for p in model.parameters() if p.requires_grad]))"
   ]
  },
  {
   "cell_type": "code",
   "execution_count": 6,
   "metadata": {},
   "outputs": [],
   "source": [
    "train_loss_batch = []\n",
    "test_loss_batch = []\n",
    "confs = []\n",
    "train_stats = {'loss': [], 'prec': [], 'recall': [], 'f1score': []}\n",
    "test_stats = {'loss': [], 'prec': [], 'recall': [], 'f1score': []}"
   ]
  },
  {
   "cell_type": "code",
   "execution_count": 7,
   "metadata": {},
   "outputs": [],
   "source": [
    "# optimization_loop(model, nursing_trainloader, nursing_testloader, criterion, optimizer, 10, DEVICE)\n",
    "\n",
    "for epoch in range(1):\n",
    "    model.train()\n",
    "    for X,y in nursing_trainloader:\n",
    "        X,y = X.to(DEVICE), y.to(DEVICE)\n",
    "        logits = model(X)\n",
    "        loss = criterion(logits, y)\n",
    "        \n",
    "        optimizer.zero_grad()\n",
    "        loss.backward()\n",
    "        optimizer.step()\n",
    "\n",
    "    \n",
    "    model.eval()\n",
    "    loss = 0\n",
    "    ypred = []\n",
    "    for X,y in nursing_trainloader:\n",
    "        X,y = X.to(DEVICE), y.to(DEVICE)\n",
    "        logits = model(X)\n",
    "        loss_i = criterion(logits, y).item()\n",
    "        train_loss_batch.append(loss_i)\n",
    "        loss += loss_i\n",
    "        ypred += torch.round(torch.sigmoid(logits.detach().cpu())).tolist()\n",
    "    train_stats['loss'].append(loss / len(nursing_trainloader))\n",
    "    prec, recall, f1score, _ = precision_recall_fscore_support(\n",
    "        nursing_trainloader.dataset.y.squeeze(), \n",
    "        ypred, \n",
    "        zero_division='warn', pos_label=1, average='binary'\n",
    "    )\n",
    "    train_stats['prec'].append(prec)\n",
    "    train_stats['recall'].append(recall)    \n",
    "    train_stats['f1score'].append(f1score)\n",
    "\n",
    "\n",
    "    loss = 0\n",
    "    test_ypred = []\n",
    "    for X,y in nursing_testloader:\n",
    "        X,y = X.to(DEVICE), y.to(DEVICE)\n",
    "        logits = model(X)\n",
    "        loss_i = criterion(logits, y).item()\n",
    "        test_loss_batch.append(loss_i)\n",
    "        loss += loss_i\n",
    "        test_ypred += torch.round(torch.sigmoid(logits.detach().cpu())).tolist()\n",
    "        confs += torch.sigmoid(logits.detach().cpu()).tolist()\n",
    "\n",
    "    test_stats['loss'].append(loss / len(nursing_testloader))\n",
    "    prec, recall, f1score, _ = precision_recall_fscore_support(\n",
    "        nursing_testloader.dataset.y, \n",
    "        test_ypred, \n",
    "        zero_division=0.0, pos_label=1, average='binary'\n",
    "    )\n",
    "    test_stats['prec'].append(prec)\n",
    "    test_stats['recall'].append(recall)\n",
    "    test_stats['f1score'].append(f1score)\n",
    "\n",
    "    torch.save(model.state_dict(), 'dev/test-model.pt')\n",
    "\n",
    "\n",
    "print(\"Train\\n\", tabulate([[\"Metric\", \"Value\"], *[[k,v] for k,v in train_stats.items()]], headers=\"firstrow\"))\n",
    "print(\"\\nDev\\n\", tabulate([[\"Metric\", \"Value\"], *[[k,v] for k,v in test_stats.items()]], headers=\"firstrow\"))\n",
    "\n",
    "\n",
    "fig,axes = plt.subplots(1, 3, figsize=(25,10))\n",
    "\n",
    "axes[0].plot(train_stats['loss'])\n",
    "axes[0].plot(test_stats['loss'])\n",
    "axes[0].plot(train_stats['f1score'])\n",
    "axes[0].plot(test_stats['f1score'])\n",
    "axes[0].legend(['Train Loss', 'Dev Loss', 'Train F1', 'Dev F1'])\n",
    "axes[0].set_title('Metrics')\n",
    "\n",
    "axes[1].plot(train_loss_batch)\n",
    "axes[1].plot(test_loss_batch)\n",
    "axes[1].legend(['Train Loss', 'Dev Loss'])\n",
    "\n",
    "sns.heatmap(confusion_matrix(y_true=nursing_testloader.dataset.y, y_pred=test_ypred), annot=True, ax=axes[2], cbar=False, fmt='.2f')\n",
    "axes[2].set_title('Dev Confusion Matrix')\n",
    "axes[2].set(xlabel='Predicted', ylabel='True')\n",
    "plt.show()"
   ]
  },
  {
   "cell_type": "code",
   "execution_count": 61,
   "metadata": {},
   "outputs": [
    {
     "name": "stdout",
     "output_type": "stream",
     "text": [
      "Train\n",
      " Metric    Value\n",
      "--------  ----------------------\n",
      "loss      [0.031268637798607134]\n",
      "prec      [0.2254104876864437]\n",
      "recall    [0.22407926747218526]\n",
      "f1score   [0.22474290629160598]\n",
      "\n",
      "Dev\n",
      " Metric    Value\n",
      "--------  ---------------------\n",
      "loss      [1.3737276524001174]\n",
      "prec      [0.5565848122805822]\n",
      "recall    [0.47311060846184416]\n",
      "f1score   [0.5114642133861783]\n"
     ]
    },
    {
     "data": {
      "image/png": "[encoded data removed]",
      "text/plain": [
       "<Figure size 2500x1000 with 3 Axes>"
      ]
     },
     "metadata": {},
     "output_type": "display_data"
    }
   ],
   "source": [
    "\n",
    "print(\"Train\\n\", tabulate([[\"Metric\", \"Value\"], *[[k,v] for k,v in train_stats.items()]], headers=\"firstrow\"))\n",
    "print(\"\\nDev\\n\", tabulate([[\"Metric\", \"Value\"], *[[k,v] for k,v in test_stats.items()]], headers=\"firstrow\"))\n",
    "\n",
    "\n",
    "fig,axes = plt.subplots(1, 3, figsize=(25,10))\n",
    "\n",
    "axes[0].plot(train_stats['loss'])\n",
    "axes[0].plot(test_stats['loss'])\n",
    "axes[0].plot(train_stats['f1score'])\n",
    "axes[0].plot(test_stats['f1score'])\n",
    "axes[0].legend(['Train Loss', 'Dev Loss', 'Train F1', 'Dev F1'])\n",
    "axes[0].set_title('Metrics')\n",
    "\n",
    "axes[1].plot(train_loss_batch)\n",
    "axes[1].plot(test_loss_batch)\n",
    "axes[1].legend(['Train Loss', 'Dev Loss'])\n",
    "\n",
    "sns.heatmap(confusion_matrix(y_true=nursing_testloader.dataset.y, y_pred=test_ypred), annot=True, ax=axes[2], cbar=False, fmt='.2f')\n",
    "axes[2].set_title('Dev Confusion Matrix')\n",
    "axes[2].set(xlabel='Predicted', ylabel='True')\n",
    "plt.show()"
   ]
  },
  {
   "cell_type": "code",
   "execution_count": 67,
   "metadata": {},
   "outputs": [
    {
     "ename": "KeyboardInterrupt",
     "evalue": "",
     "output_type": "error",
     "traceback": [
      "\u001b[0;31m---------------------------------------------------------------------------\u001b[0m",
      "\u001b[0;31mKeyboardInterrupt\u001b[0m                         Traceback (most recent call last)",
      "\u001b[1;32m/home/musa/eating/eating-detection/classifier.ipynb Cell 9\u001b[0m line \u001b[0;36m5\n\u001b[1;32m      <a href='vscode-notebook-cell://ssh-remote%2B10.173.98.203/home/musa/eating/eating-detection/classifier.ipynb#X21sdnNjb2RlLXJlbW90ZQ%3D%3D?line=2'>3</a>\u001b[0m X,y \u001b[39m=\u001b[39m X\u001b[39m.\u001b[39mto(DEVICE), y\u001b[39m.\u001b[39mto(DEVICE)\n\u001b[1;32m      <a href='vscode-notebook-cell://ssh-remote%2B10.173.98.203/home/musa/eating/eating-detection/classifier.ipynb#X21sdnNjb2RlLXJlbW90ZQ%3D%3D?line=3'>4</a>\u001b[0m logits \u001b[39m=\u001b[39m model(X)\n\u001b[0;32m----> <a href='vscode-notebook-cell://ssh-remote%2B10.173.98.203/home/musa/eating/eating-detection/classifier.ipynb#X21sdnNjb2RlLXJlbW90ZQ%3D%3D?line=4'>5</a>\u001b[0m test_pred \u001b[39m+\u001b[39m\u001b[39m=\u001b[39m torch\u001b[39m.\u001b[39mround(torch\u001b[39m.\u001b[39msigmoid(logits\u001b[39m.\u001b[39;49mdetach()\u001b[39m.\u001b[39;49mcpu()))\u001b[39m.\u001b[39mtolist()\n",
      "\u001b[0;31mKeyboardInterrupt\u001b[0m: "
     ]
    }
   ],
   "source": [
    "test_pred = []\n",
    "for X,y in nursing_testloader:\n",
    "    X,y = X.to(DEVICE), y.to(DEVICE)\n",
    "    logits = model(X)\n",
    "    test_pred += torch.round(torch.sigmoid(logits.detach().cpu())).tolist()"
   ]
  },
  {
   "cell_type": "code",
   "execution_count": 72,
   "metadata": {},
   "outputs": [],
   "source": [
    "ys, stats = evaluate_loop(model.to('cuda:0'), criterion, nursing_testloader, 'cuda:0')"
   ]
  },
  {
   "cell_type": "code",
   "execution_count": 73,
   "metadata": {},
   "outputs": [
    {
     "name": "stdout",
     "output_type": "stream",
     "text": [
      "Metric        Value\n",
      "---------  --------\n",
      "loss       1.37373\n",
      "precision  0.556585\n",
      "recall     0.473111\n",
      "f1         0.511464\n"
     ]
    }
   ],
   "source": [
    "from lib.utils import summary\n",
    "summary(stats)"
   ]
  },
  {
   "cell_type": "code",
   "execution_count": 80,
   "metadata": {},
   "outputs": [],
   "source": [
    "from lib.modules import read_nursing_session\n",
    "import plotly.express as px\n",
    "\n",
    "df = read_nursing_session(32, nursing_raw_dir)\n",
    "df['pred'] = ys['pred'][:150000]*10\n",
    "df['true'] = ys['true'][:150000]*10\n",
    "\n",
    "fig = px.line(df, x=df.index, y=['x_acc', 'y_acc', 'z_acc', 'pred', 'true'])\n",
    "fig.show(renderer='browser')"
   ]
  },
  {
   "cell_type": "code",
   "execution_count": 79,
   "metadata": {},
   "outputs": [
    {
     "data": {
      "text/html": [
       "<div>\n",
       "<style scoped>\n",
       "    .dataframe tbody tr th:only-of-type {\n",
       "        vertical-align: middle;\n",
       "    }\n",
       "\n",
       "    .dataframe tbody tr th {\n",
       "        vertical-align: top;\n",
       "    }\n",
       "\n",
       "    .dataframe thead th {\n",
       "        text-align: right;\n",
       "    }\n",
       "</style>\n",
       "<table border=\"1\" class=\"dataframe\">\n",
       "  <thead>\n",
       "    <tr style=\"text-align: right;\">\n",
       "      <th></th>\n",
       "      <th>x_acc</th>\n",
       "      <th>y_acc</th>\n",
       "      <th>z_acc</th>\n",
       "      <th>pred</th>\n",
       "      <th>true</th>\n",
       "    </tr>\n",
       "  </thead>\n",
       "  <tbody>\n",
       "    <tr>\n",
       "      <th>0</th>\n",
       "      <td>-0.351807</td>\n",
       "      <td>4.328125</td>\n",
       "      <td>8.937500</td>\n",
       "      <td>0.0</td>\n",
       "      <td>0.0</td>\n",
       "    </tr>\n",
       "    <tr>\n",
       "      <th>1</th>\n",
       "      <td>-0.378174</td>\n",
       "      <td>4.578125</td>\n",
       "      <td>8.867188</td>\n",
       "      <td>0.0</td>\n",
       "      <td>0.0</td>\n",
       "    </tr>\n",
       "    <tr>\n",
       "      <th>2</th>\n",
       "      <td>-0.469238</td>\n",
       "      <td>4.824219</td>\n",
       "      <td>8.796875</td>\n",
       "      <td>0.0</td>\n",
       "      <td>0.0</td>\n",
       "    </tr>\n",
       "    <tr>\n",
       "      <th>3</th>\n",
       "      <td>-0.523926</td>\n",
       "      <td>4.804688</td>\n",
       "      <td>8.742188</td>\n",
       "      <td>0.0</td>\n",
       "      <td>0.0</td>\n",
       "    </tr>\n",
       "    <tr>\n",
       "      <th>4</th>\n",
       "      <td>-0.521484</td>\n",
       "      <td>4.816406</td>\n",
       "      <td>8.632812</td>\n",
       "      <td>0.0</td>\n",
       "      <td>0.0</td>\n",
       "    </tr>\n",
       "    <tr>\n",
       "      <th>...</th>\n",
       "      <td>...</td>\n",
       "      <td>...</td>\n",
       "      <td>...</td>\n",
       "      <td>...</td>\n",
       "      <td>...</td>\n",
       "    </tr>\n",
       "    <tr>\n",
       "      <th>149995</th>\n",
       "      <td>0.648438</td>\n",
       "      <td>2.515625</td>\n",
       "      <td>8.500000</td>\n",
       "      <td>0.0</td>\n",
       "      <td>0.0</td>\n",
       "    </tr>\n",
       "    <tr>\n",
       "      <th>149996</th>\n",
       "      <td>0.971680</td>\n",
       "      <td>3.220703</td>\n",
       "      <td>9.156250</td>\n",
       "      <td>0.0</td>\n",
       "      <td>0.0</td>\n",
       "    </tr>\n",
       "    <tr>\n",
       "      <th>149997</th>\n",
       "      <td>0.914551</td>\n",
       "      <td>3.552734</td>\n",
       "      <td>10.640625</td>\n",
       "      <td>0.0</td>\n",
       "      <td>0.0</td>\n",
       "    </tr>\n",
       "    <tr>\n",
       "      <th>149998</th>\n",
       "      <td>0.272705</td>\n",
       "      <td>4.472656</td>\n",
       "      <td>10.578125</td>\n",
       "      <td>0.0</td>\n",
       "      <td>0.0</td>\n",
       "    </tr>\n",
       "    <tr>\n",
       "      <th>149999</th>\n",
       "      <td>1.189453</td>\n",
       "      <td>1.658203</td>\n",
       "      <td>8.835938</td>\n",
       "      <td>0.0</td>\n",
       "      <td>0.0</td>\n",
       "    </tr>\n",
       "  </tbody>\n",
       "</table>\n",
       "<p>150000 rows × 5 columns</p>\n",
       "</div>"
      ],
      "text/plain": [
       "           x_acc     y_acc      z_acc  pred  true\n",
       "0      -0.351807  4.328125   8.937500   0.0   0.0\n",
       "1      -0.378174  4.578125   8.867188   0.0   0.0\n",
       "2      -0.469238  4.824219   8.796875   0.0   0.0\n",
       "3      -0.523926  4.804688   8.742188   0.0   0.0\n",
       "4      -0.521484  4.816406   8.632812   0.0   0.0\n",
       "...          ...       ...        ...   ...   ...\n",
       "149995  0.648438  2.515625   8.500000   0.0   0.0\n",
       "149996  0.971680  3.220703   9.156250   0.0   0.0\n",
       "149997  0.914551  3.552734  10.640625   0.0   0.0\n",
       "149998  0.272705  4.472656  10.578125   0.0   0.0\n",
       "149999  1.189453  1.658203   8.835938   0.0   0.0\n",
       "\n",
       "[150000 rows x 5 columns]"
      ]
     },
     "execution_count": 79,
     "metadata": {},
     "output_type": "execute_result"
    }
   ],
   "source": [
    "df"
   ]
  }
 ],
 "metadata": {
  "kernelspec": {
   "display_name": "env",
   "language": "python",
   "name": "python3"
  },
  "language_info": {
   "codemirror_mode": {
    "name": "ipython",
    "version": 3
   },
   "file_extension": ".py",
   "mimetype": "text/x-python",
   "name": "python",
   "nbconvert_exporter": "python",
   "pygments_lexer": "ipython3",
   "version": "3.10.12"
  }
 },
 "nbformat": 4,
 "nbformat_minor": 2
}
