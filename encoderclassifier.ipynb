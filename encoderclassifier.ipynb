{
 "cells": [
  {
   "cell_type": "code",
   "execution_count": 1,
   "metadata": {},
   "outputs": [],
   "source": [
    "%load_ext autoreload\n",
    "%autoreload 2"
   ]
  },
  {
   "cell_type": "code",
   "execution_count": 91,
   "metadata": {},
   "outputs": [],
   "source": [
    "import torch\n",
    "from torch import nn\n",
    "from lib.modules import (\n",
    "    read_and_window_nursing_session,\n",
    "    read_nursing_session,\n",
    "    read_nursing_labels,\n",
    "    optimization_loop,\n",
    "    evaluate_loop,\n",
    "    predict_and_plot_pretty_session\n",
    ")\n",
    "from lib.utils import (\n",
    "    plot_and_save_cm,\n",
    "    plot_and_save_losses,\n",
    "    summary,\n",
    "    get_bouts_smoothed\n",
    ")\n",
    "from lib.models import ResEncoderClassifier, ResEncoderClassifierAve, ResNetClassifier\n",
    "from lib.data.datasets import AccRawDataset, AccAndLabelsDataset\n",
    "from pathlib import Path\n",
    "from torch.utils.data import DataLoader, TensorDataset\n",
    "import numpy as np\n",
    "from sklearn.model_selection import train_test_split"
   ]
  },
  {
   "cell_type": "code",
   "execution_count": 3,
   "metadata": {},
   "outputs": [],
   "source": [
    "nursing_raw_dir = Path(\"/home/musa/datasets/nursingv1\")\n",
    "nursing_label_dir = Path(\"/home/musa/datasets/eating_labels\")\n",
    "WINSIZE = 505\n",
    "DEVICE = 'cuda:1'\n",
    "autoencoder_dir = Path('dev/5_resnetautoencoder/5_autoencoder-resnet/')\n",
    "encoderclass_dir = Path('dev/5_resnetautoencoder/encoderclass-conv/5_encoderclass-resnet_1-pretrained-frozen/')"
   ]
  },
  {
   "cell_type": "markdown",
   "metadata": {},
   "source": [
    "# Data Processing"
   ]
  },
  {
   "cell_type": "code",
   "execution_count": 4,
   "metadata": {},
   "outputs": [],
   "source": [
    "all_sessions = set(range(71))\n",
    "not_labeled = {0, 1, 2, 3, 4, 5, 6, 7, 8, 9, 10, 34, 70}\n",
    "reserved = {15, 43, 45, 51, 55}\n",
    "sessions = list(all_sessions - not_labeled - reserved)\n",
    "np.random.seed(10)\n",
    "train_sessions, test_sessions = train_test_split(sessions, test_size=0.25)"
   ]
  },
  {
   "cell_type": "code",
   "execution_count": 12,
   "metadata": {},
   "outputs": [],
   "source": [
    "Xtr = torch.Tensor()\n",
    "Xte = torch.Tensor()\n",
    "ytr = torch.Tensor()\n",
    "yte = torch.Tensor()\n",
    "\n",
    "from lib.modules import pad_for_windowing\n",
    "winsize = 101\n",
    "\n",
    "for session_idx in sessions:\n",
    "    df = read_nursing_session(session_idx, nursing_raw_dir)\n",
    "    labels = read_nursing_labels(session_idx, nursing_label_dir)\n",
    "    X = torch.Tensor(df.values)\n",
    "    y = torch.zeros(len(X), 1)\n",
    "    y[labels['start']:labels['end']] = 1\n",
    "\n",
    "    if session_idx in train_sessions:\n",
    "        Xtr = torch.cat((Xtr, X))\n",
    "        ytr = torch.cat((ytr, y))\n",
    "    else:\n",
    "        Xte = torch.cat((Xte, X))\n",
    "        yte = torch.cat((yte, y))\n",
    "\n",
    "tr = AccAndLabelsDataset(pad_for_windowing(Xtr, winsize), ytr, winsize)\n",
    "te = AccAndLabelsDataset(pad_for_windowing(Xte, winsize), yte, winsize)"
   ]
  },
  {
   "cell_type": "code",
   "execution_count": 24,
   "metadata": {},
   "outputs": [
    {
     "name": "stdout",
     "output_type": "stream",
     "text": [
      "23.755555555555553\n",
      "17.316666666666666\n",
      "6.438888888888888\n"
     ]
    }
   ],
   "source": [
    "print(len(tr) / 100 / 60 / 60 + len(te) / 100 / 60 / 60)\n",
    "print(len(tr) / 100 / 60 / 60)\n",
    "print(len(te) / 100 / 60 / 60)"
   ]
  },
  {
   "cell_type": "code",
   "execution_count": 5,
   "metadata": {},
   "outputs": [],
   "source": [
    "# train_sessions = [25, 67, 42, 50, 22, 61, 33, 21, 16, 18]\n",
    "# test_sessions = [58, 62]\n",
    "\n",
    "# Xs = []\n",
    "# ys = []\n",
    "\n",
    "# for session_idx in train_sessions:\n",
    "#     X,y = read_and_window_nursing_session(session_idx, WINSIZE, nursing_raw_dir, nursing_label_dir)\n",
    "\n",
    "#     Xs.append(X)\n",
    "#     ys.append(y)\n",
    "\n",
    "# Xtr = torch.cat(Xs)\n",
    "# ytr = torch.cat(ys)\n",
    "\n",
    "# Xs = []\n",
    "# ys = []\n",
    "\n",
    "# for session_idx in test_sessions:\n",
    "#     X,y = read_and_window_nursing_session(session_idx, WINSIZE, nursing_raw_dir, nursing_label_dir)\n",
    "\n",
    "#     Xs.append(X)\n",
    "#     ys.append(y)\n",
    "\n",
    "# Xte = torch.cat(Xs)\n",
    "# yte = torch.cat(ys)"
   ]
  },
  {
   "cell_type": "code",
   "execution_count": null,
   "metadata": {},
   "outputs": [],
   "source": [
    "nursing_trainloader = DataLoader(TensorDataset(Xtr, ytr), batch_size=64, shuffle=True)\n",
    "nursing_testloader = DataLoader(TensorDataset(Xte,yte), batch_size=64)\n",
    "\n",
    "torch.save(nursing_trainloader, 'pytorch_datasets/nursing_trainloader_11-25-23.pt')\n",
    "torch.save(nursing_testloader, 'pytorch_datasets/nursing_testloader_11-25-23.pt')"
   ]
  },
  {
   "cell_type": "markdown",
   "metadata": {},
   "source": [
    "# Train"
   ]
  },
  {
   "cell_type": "code",
   "execution_count": 11,
   "metadata": {},
   "outputs": [],
   "source": [
    "nursing_trainloader = torch.load('pytorch_datasets/nursing_trainloader_11-25-23.pt')\n",
    "nursing_testloader = torch.load('pytorch_datasets/nursing_testloader_11-25-23.pt')"
   ]
  },
  {
   "cell_type": "code",
   "execution_count": null,
   "metadata": {},
   "outputs": [],
   "source": [
    "# nursing_trainloader = torch.load('pytorch_datasets/nursing_trainloader-test.pt')\n",
    "# nursing_testloader = torch.load('pytorch_datasets/nursing_testloader-test.pt')"
   ]
  },
  {
   "cell_type": "code",
   "execution_count": 12,
   "metadata": {},
   "outputs": [
    {
     "name": "stdout",
     "output_type": "stream",
     "text": [
      "Model is loading pretrained encoder\n",
      "Model is freezing encoder\n"
     ]
    }
   ],
   "source": [
    "model = ResEncoderClassifier(WINSIZE, weights_file=autoencoder_dir / 'best_model.pt', freeze=True).to(DEVICE)\n",
    "optimizer = torch.optim.Adam(model.parameters(), lr=3e-4)\n",
    "criterion = nn.BCEWithLogitsLoss()"
   ]
  },
  {
   "cell_type": "code",
   "execution_count": 20,
   "metadata": {},
   "outputs": [
    {
     "data": {
      "text/plain": [
       "[<matplotlib.lines.Line2D at 0x7f34109d4490>]"
      ]
     },
     "execution_count": 20,
     "metadata": {},
     "output_type": "execute_result"
    },
    {
     "data": {
      "image/png": "[encoded data removed]",
      "text/plain": [
       "<Figure size 640x480 with 1 Axes>"
      ]
     },
     "metadata": {},
     "output_type": "display_data"
    }
   ],
   "source": [
    "import matplotlib.pyplot as plt\n",
    "\n",
    "train_loss = []\n",
    "model.train()\n",
    "for X,y in nursing_trainloader:\n",
    "    X,y = X.to(DEVICE), y.to(DEVICE)\n",
    "    logits = model(X)\n",
    "    loss = criterion(logits, y)\n",
    "    \n",
    "    optimizer.zero_grad()\n",
    "    loss.backward()\n",
    "    optimizer.step()\n",
    "\n",
    "    train_loss.append(loss.item())\n",
    "\n",
    "test_loss = []\n",
    "model.eval()\n",
    "for X,y in nursing_testloader:\n",
    "    X,y = X.to(DEVICE), y.to(DEVICE)\n",
    "    logits = model(X)\n",
    "    loss = criterion(logits, y)\n",
    "    \n",
    "    test_loss.append(loss.item())\n",
    "\n",
    "plt.plot(train_loss)\n",
    "plt.plot(test_loss)\n"
   ]
  },
  {
   "cell_type": "code",
   "execution_count": 25,
   "metadata": {},
   "outputs": [],
   "source": [
    "import plotly.express as px\n",
    "\n",
    "fig = px.line(x=np.arange(len(train_loss)), y=train_loss, title='Train Loss')\n",
    "# fig.add_scatter(x=np.arange(len(test_loss)), y=test_loss, mode='lines', name='Test Loss')\n",
    "fig.show(renderer='browser')"
   ]
  },
  {
   "cell_type": "code",
   "execution_count": 7,
   "metadata": {},
   "outputs": [
    {
     "name": "stderr",
     "output_type": "stream",
     "text": [
      ": Epoch 1: Train Loss: 0.46324: Dev Loss: 0.46501: 100%|██████████| 2/2 [10:32<00:00, 316.17s/it]\n"
     ]
    },
    {
     "ename": "",
     "evalue": "",
     "output_type": "error",
     "traceback": [
      "\u001b[1;31mThe Kernel crashed while executing code in the the current cell or a previous cell. Please review the code in the cell(s) to identify a possible cause of the failure. Click <a href='https://aka.ms/vscodeJupyterKernelCrash'>here</a> for more info. View Jupyter <a href='command:jupyter.viewOutput'>log</a> for further details."
     ]
    }
   ],
   "source": [
    "optimization_loop(model, nursing_trainloader, nursing_testloader, criterion, optimizer, 2, DEVICE, patience=20, min_delta=0.001, outdir=encoderclass_dir)"
   ]
  },
  {
   "cell_type": "markdown",
   "metadata": {},
   "source": [
    "# Evaluate\n"
   ]
  },
  {
   "cell_type": "code",
   "execution_count": 47,
   "metadata": {},
   "outputs": [],
   "source": [
    "WINSIZE = 101\n",
    "DEVICE = 'cuda:1'"
   ]
  },
  {
   "cell_type": "code",
   "execution_count": 4,
   "metadata": {},
   "outputs": [],
   "source": [
    "nursing_trainloader = torch.load('pytorch_datasets/nursing_trainloader_11-25-23.pt')\n",
    "nursing_testloader = torch.load('pytorch_datasets/nursing_testloader_11-25-23.pt')"
   ]
  },
  {
   "cell_type": "code",
   "execution_count": null,
   "metadata": {},
   "outputs": [],
   "source": [
    "model = ResEncoderClassifierAve(WINSIZE, weights_file=autoencoder_dir / 'best_model.pt', freeze=True).to(DEVICE)\n",
    "optimizer = torch.optim.Adam(model.parameters(), lr=3e-4)\n",
    "criterion = nn.BCEWithLogitsLoss()"
   ]
  },
  {
   "cell_type": "code",
   "execution_count": null,
   "metadata": {},
   "outputs": [],
   "source": [
    "model.load_state_dict(torch.load(Path('dev/5_resnetautoencoder/encoder_class-avg_100hl/1-pretrained-frozen/') / 'best_model.pt'))"
   ]
  },
  {
   "cell_type": "code",
   "execution_count": 49,
   "metadata": {},
   "outputs": [],
   "source": [
    "model = ResNetClassifier(WINSIZE, in_channels=3).to(DEVICE)\n",
    "optimizer = torch.optim.Adam(model.parameters(), lr=3e-4)\n",
    "criterion = nn.BCEWithLogitsLoss()"
   ]
  },
  {
   "cell_type": "code",
   "execution_count": 51,
   "metadata": {},
   "outputs": [
    {
     "data": {
      "text/plain": [
       "<All keys matched successfully>"
      ]
     },
     "execution_count": 51,
     "metadata": {},
     "output_type": "execute_result"
    }
   ],
   "source": [
    "model.load_state_dict(torch.load(Path('dev/resnet/best_model.pt')))\n",
    "# model.load_state_dict(torch.load(Path('dev/resnet/model/30.pt')))"
   ]
  },
  {
   "cell_type": "code",
   "execution_count": 15,
   "metadata": {},
   "outputs": [
    {
     "data": {
      "image/png": "[encoded data removed]",
      "text/plain": [
       "<Figure size 1600x900 with 3 Axes>"
      ]
     },
     "metadata": {},
     "output_type": "display_data"
    },
    {
     "name": "stdout",
     "output_type": "stream",
     "text": [
      "Metric        Value\n",
      "---------  --------\n",
      "loss       0.379466\n",
      "precision  0.672051\n",
      "recall     0.541726\n",
      "f1         0.599892\n"
     ]
    }
   ],
   "source": [
    "ys,metrics = evaluate_loop(model, criterion, nursing_trainloader, DEVICE)\n",
    "plot_and_save_cm(ys['true'], ys['pred'])\n",
    "summary(metrics)"
   ]
  },
  {
   "cell_type": "code",
   "execution_count": 52,
   "metadata": {},
   "outputs": [
    {
     "data": {
      "image/png": "[encoded data removed]",
      "text/plain": [
       "<Figure size 1600x900 with 3 Axes>"
      ]
     },
     "metadata": {},
     "output_type": "display_data"
    },
    {
     "name": "stdout",
     "output_type": "stream",
     "text": [
      "Metric        Value\n",
      "---------  --------\n",
      "loss       0.434015\n",
      "precision  0.57584\n",
      "recall     0.463869\n",
      "f1         0.513825\n"
     ]
    }
   ],
   "source": [
    "ys,metrics = evaluate_loop(model, criterion, nursing_testloader, DEVICE)\n",
    "plot_and_save_cm(ys['true'], ys['pred'])\n",
    "summary(metrics)"
   ]
  },
  {
   "cell_type": "code",
   "execution_count": 48,
   "metadata": {},
   "outputs": [
    {
     "name": "stdout",
     "output_type": "stream",
     "text": [
      "Metric        Value\n",
      "---------  --------\n",
      "loss       0.291395\n",
      "precision  0.837496\n",
      "recall     0.701595\n",
      "f1         0.763546\n"
     ]
    }
   ],
   "source": [
    "test_session = test_sessions[0]\n",
    "\n",
    "predict_and_plot_pretty_session(\n",
    "    session_idx=test_session,\n",
    "    dim_factor=5,\n",
    "    datapath=nursing_raw_dir,\n",
    "    labelpath=nursing_label_dir,\n",
    "    winsize=WINSIZE,\n",
    "    model=model,\n",
    "    criterion=criterion,\n",
    "    batch_size=64,\n",
    "    device=DEVICE,\n",
    "    smooth=True\n",
    ")"
   ]
  },
  {
   "cell_type": "markdown",
   "metadata": {},
   "source": [
    "# Cheating Evaluation\n"
   ]
  },
  {
   "cell_type": "code",
   "execution_count": 9,
   "metadata": {},
   "outputs": [],
   "source": [
    "WINSIZE = 101\n",
    "DEVICE = 'cuda:1'"
   ]
  },
  {
   "cell_type": "code",
   "execution_count": 7,
   "metadata": {},
   "outputs": [],
   "source": [
    "# load all nursing, shuffle them all\n",
    "all_sessions = set(range(71))\n",
    "not_labeled = {0, 1, 2, 3, 4, 5, 6, 7, 8, 9, 10, 34, 70}\n",
    "reserved = {15, 43, 45, 51, 55}\n",
    "sessions = list(all_sessions - not_labeled - reserved)\n",
    "np.random.seed(10)\n",
    "train_sessions, test_sessions = train_test_split(sessions, test_size=0.25)"
   ]
  },
  {
   "cell_type": "code",
   "execution_count": 12,
   "metadata": {},
   "outputs": [
    {
     "ename": "ParserError",
     "evalue": "Error tokenizing data. C error: Calling read(nbytes) on source failed. Try engine='python'.",
     "output_type": "error",
     "traceback": [
      "\u001b[0;31m---------------------------------------------------------------------------\u001b[0m",
      "\u001b[0;31mParserError\u001b[0m                               Traceback (most recent call last)",
      "\u001b[1;32m/home/musa/eating/eating-detection/encoderclassifier.ipynb Cell 29\u001b[0m line \u001b[0;36m5\n\u001b[1;32m      <a href='vscode-notebook-cell://ssh-remote%2B10.173.98.203/home/musa/eating/eating-detection/encoderclassifier.ipynb#X36sdnNjb2RlLXJlbW90ZQ%3D%3D?line=1'>2</a>\u001b[0m ys \u001b[39m=\u001b[39m torch\u001b[39m.\u001b[39mTensor()\n\u001b[1;32m      <a href='vscode-notebook-cell://ssh-remote%2B10.173.98.203/home/musa/eating/eating-detection/encoderclassifier.ipynb#X36sdnNjb2RlLXJlbW90ZQ%3D%3D?line=3'>4</a>\u001b[0m \u001b[39mfor\u001b[39;00m session_idx \u001b[39min\u001b[39;00m sessions:\n\u001b[0;32m----> <a href='vscode-notebook-cell://ssh-remote%2B10.173.98.203/home/musa/eating/eating-detection/encoderclassifier.ipynb#X36sdnNjb2RlLXJlbW90ZQ%3D%3D?line=4'>5</a>\u001b[0m     X,y \u001b[39m=\u001b[39m read_and_window_nursing_session(session_idx, WINSIZE, nursing_raw_dir, nursing_label_dir)\n\u001b[1;32m      <a href='vscode-notebook-cell://ssh-remote%2B10.173.98.203/home/musa/eating/eating-detection/encoderclassifier.ipynb#X36sdnNjb2RlLXJlbW90ZQ%3D%3D?line=6'>7</a>\u001b[0m     Xs \u001b[39m=\u001b[39m torch\u001b[39m.\u001b[39mcat((Xs, X))\n\u001b[1;32m      <a href='vscode-notebook-cell://ssh-remote%2B10.173.98.203/home/musa/eating/eating-detection/encoderclassifier.ipynb#X36sdnNjb2RlLXJlbW90ZQ%3D%3D?line=7'>8</a>\u001b[0m     ys \u001b[39m=\u001b[39m torch\u001b[39m.\u001b[39mcat((ys, y))\n",
      "File \u001b[0;32m~/eating/eating-detection/lib/modules.py:49\u001b[0m, in \u001b[0;36mread_and_window_nursing_session\u001b[0;34m(session_idx, winsize, datapath, labelpath)\u001b[0m\n\u001b[1;32m     48\u001b[0m \u001b[39mdef\u001b[39;00m \u001b[39mread_and_window_nursing_session\u001b[39m(session_idx, winsize, datapath, labelpath):\n\u001b[0;32m---> 49\u001b[0m     df \u001b[39m=\u001b[39m read_nursing_session(session_idx, datapath)\n\u001b[1;32m     50\u001b[0m     labels \u001b[39m=\u001b[39m read_nursing_labels(session_idx, labelpath)\n\u001b[1;32m     52\u001b[0m     X \u001b[39m=\u001b[39m torch\u001b[39m.\u001b[39mTensor(df\u001b[39m.\u001b[39mvalues)\n",
      "File \u001b[0;32m~/eating/eating-detection/lib/modules.py:27\u001b[0m, in \u001b[0;36mread_nursing_session\u001b[0;34m(session_idx, datapath)\u001b[0m\n\u001b[1;32m     26\u001b[0m \u001b[39mdef\u001b[39;00m \u001b[39mread_nursing_session\u001b[39m(session_idx, datapath):\n\u001b[0;32m---> 27\u001b[0m     df \u001b[39m=\u001b[39m pd\u001b[39m.\u001b[39;49mread_csv(\n\u001b[1;32m     28\u001b[0m         Path(datapath, \u001b[39mf\u001b[39;49m\u001b[39m'\u001b[39;49m\u001b[39m{\u001b[39;49;00msession_idx\u001b[39m}\u001b[39;49;00m\u001b[39m'\u001b[39;49m, \u001b[39m'\u001b[39;49m\u001b[39mraw_data.csv\u001b[39;49m\u001b[39m'\u001b[39;49m), \n\u001b[1;32m     29\u001b[0m         header\u001b[39m=\u001b[39;49m\u001b[39mNone\u001b[39;49;00m,\n\u001b[1;32m     30\u001b[0m         usecols\u001b[39m=\u001b[39;49m[\u001b[39m2\u001b[39;49m,\u001b[39m3\u001b[39;49m,\u001b[39m4\u001b[39;49m],\n\u001b[1;32m     31\u001b[0m         names\u001b[39m=\u001b[39;49m[\u001b[39m'\u001b[39;49m\u001b[39mx_acc\u001b[39;49m\u001b[39m'\u001b[39;49m,\u001b[39m'\u001b[39;49m\u001b[39my_acc\u001b[39;49m\u001b[39m'\u001b[39;49m,\u001b[39m'\u001b[39;49m\u001b[39mz_acc\u001b[39;49m\u001b[39m'\u001b[39;49m]\n\u001b[1;32m     32\u001b[0m     )\n\u001b[1;32m     33\u001b[0m     \u001b[39mreturn\u001b[39;00m df\n",
      "File \u001b[0;32m~/eating/eating-detection/env/lib/python3.10/site-packages/pandas/io/parsers/readers.py:948\u001b[0m, in \u001b[0;36mread_csv\u001b[0;34m(filepath_or_buffer, sep, delimiter, header, names, index_col, usecols, dtype, engine, converters, true_values, false_values, skipinitialspace, skiprows, skipfooter, nrows, na_values, keep_default_na, na_filter, verbose, skip_blank_lines, parse_dates, infer_datetime_format, keep_date_col, date_parser, date_format, dayfirst, cache_dates, iterator, chunksize, compression, thousands, decimal, lineterminator, quotechar, quoting, doublequote, escapechar, comment, encoding, encoding_errors, dialect, on_bad_lines, delim_whitespace, low_memory, memory_map, float_precision, storage_options, dtype_backend)\u001b[0m\n\u001b[1;32m    935\u001b[0m kwds_defaults \u001b[39m=\u001b[39m _refine_defaults_read(\n\u001b[1;32m    936\u001b[0m     dialect,\n\u001b[1;32m    937\u001b[0m     delimiter,\n\u001b[0;32m   (...)\u001b[0m\n\u001b[1;32m    944\u001b[0m     dtype_backend\u001b[39m=\u001b[39mdtype_backend,\n\u001b[1;32m    945\u001b[0m )\n\u001b[1;32m    946\u001b[0m kwds\u001b[39m.\u001b[39mupdate(kwds_defaults)\n\u001b[0;32m--> 948\u001b[0m \u001b[39mreturn\u001b[39;00m _read(filepath_or_buffer, kwds)\n",
      "File \u001b[0;32m~/eating/eating-detection/env/lib/python3.10/site-packages/pandas/io/parsers/readers.py:617\u001b[0m, in \u001b[0;36m_read\u001b[0;34m(filepath_or_buffer, kwds)\u001b[0m\n\u001b[1;32m    614\u001b[0m     \u001b[39mreturn\u001b[39;00m parser\n\u001b[1;32m    616\u001b[0m \u001b[39mwith\u001b[39;00m parser:\n\u001b[0;32m--> 617\u001b[0m     \u001b[39mreturn\u001b[39;00m parser\u001b[39m.\u001b[39;49mread(nrows)\n",
      "File \u001b[0;32m~/eating/eating-detection/env/lib/python3.10/site-packages/pandas/io/parsers/readers.py:1748\u001b[0m, in \u001b[0;36mTextFileReader.read\u001b[0;34m(self, nrows)\u001b[0m\n\u001b[1;32m   1741\u001b[0m nrows \u001b[39m=\u001b[39m validate_integer(\u001b[39m\"\u001b[39m\u001b[39mnrows\u001b[39m\u001b[39m\"\u001b[39m, nrows)\n\u001b[1;32m   1742\u001b[0m \u001b[39mtry\u001b[39;00m:\n\u001b[1;32m   1743\u001b[0m     \u001b[39m# error: \"ParserBase\" has no attribute \"read\"\u001b[39;00m\n\u001b[1;32m   1744\u001b[0m     (\n\u001b[1;32m   1745\u001b[0m         index,\n\u001b[1;32m   1746\u001b[0m         columns,\n\u001b[1;32m   1747\u001b[0m         col_dict,\n\u001b[0;32m-> 1748\u001b[0m     ) \u001b[39m=\u001b[39m \u001b[39mself\u001b[39;49m\u001b[39m.\u001b[39;49m_engine\u001b[39m.\u001b[39;49mread(  \u001b[39m# type: ignore[attr-defined]\u001b[39;49;00m\n\u001b[1;32m   1749\u001b[0m         nrows\n\u001b[1;32m   1750\u001b[0m     )\n\u001b[1;32m   1751\u001b[0m \u001b[39mexcept\u001b[39;00m \u001b[39mException\u001b[39;00m:\n\u001b[1;32m   1752\u001b[0m     \u001b[39mself\u001b[39m\u001b[39m.\u001b[39mclose()\n",
      "File \u001b[0;32m~/eating/eating-detection/env/lib/python3.10/site-packages/pandas/io/parsers/c_parser_wrapper.py:234\u001b[0m, in \u001b[0;36mCParserWrapper.read\u001b[0;34m(self, nrows)\u001b[0m\n\u001b[1;32m    232\u001b[0m \u001b[39mtry\u001b[39;00m:\n\u001b[1;32m    233\u001b[0m     \u001b[39mif\u001b[39;00m \u001b[39mself\u001b[39m\u001b[39m.\u001b[39mlow_memory:\n\u001b[0;32m--> 234\u001b[0m         chunks \u001b[39m=\u001b[39m \u001b[39mself\u001b[39;49m\u001b[39m.\u001b[39;49m_reader\u001b[39m.\u001b[39;49mread_low_memory(nrows)\n\u001b[1;32m    235\u001b[0m         \u001b[39m# destructive to chunks\u001b[39;00m\n\u001b[1;32m    236\u001b[0m         data \u001b[39m=\u001b[39m _concatenate_chunks(chunks)\n",
      "File \u001b[0;32mparsers.pyx:843\u001b[0m, in \u001b[0;36mpandas._libs.parsers.TextReader.read_low_memory\u001b[0;34m()\u001b[0m\n",
      "File \u001b[0;32mparsers.pyx:904\u001b[0m, in \u001b[0;36mpandas._libs.parsers.TextReader._read_rows\u001b[0;34m()\u001b[0m\n",
      "File \u001b[0;32mparsers.pyx:879\u001b[0m, in \u001b[0;36mpandas._libs.parsers.TextReader._tokenize_rows\u001b[0;34m()\u001b[0m\n",
      "File \u001b[0;32mparsers.pyx:890\u001b[0m, in \u001b[0;36mpandas._libs.parsers.TextReader._check_tokenize_status\u001b[0;34m()\u001b[0m\n",
      "File \u001b[0;32mparsers.pyx:2058\u001b[0m, in \u001b[0;36mpandas._libs.parsers.raise_parser_error\u001b[0;34m()\u001b[0m\n",
      "\u001b[0;31mParserError\u001b[0m: Error tokenizing data. C error: Calling read(nbytes) on source failed. Try engine='python'."
     ]
    }
   ],
   "source": [
    "Xs = torch.Tensor()\n",
    "ys = torch.Tensor()\n",
    "\n",
    "for session_idx in sessions:\n",
    "    X,y = read_and_window_nursing_session(session_idx, WINSIZE, nursing_raw_dir, nursing_label_dir)\n",
    "\n",
    "    Xs = torch.cat((Xs, X))\n",
    "    ys = torch.cat((ys, y))"
   ]
  },
  {
   "cell_type": "code",
   "execution_count": 73,
   "metadata": {},
   "outputs": [],
   "source": [
    "Xtr, Xte, ytr, yte = train_test_split(Xs, ys, test_size=0.25)\n",
    "cheating_trainloader = DataLoader(TensorDataset(Xtr, ytr))\n",
    "cheating_testloader = DataLoader(TensorDataset(Xte, yte))"
   ]
  },
  {
   "cell_type": "code",
   "execution_count": 74,
   "metadata": {},
   "outputs": [],
   "source": [
    "model = ResNetClassifier(WINSIZE, 3).to(DEVICE)\n",
    "optimizer = torch.optim.Adam(model.parameters(), lr=3e-4)\n",
    "criterion = nn.BCEWithLogitsLoss()"
   ]
  },
  {
   "cell_type": "code",
   "execution_count": 75,
   "metadata": {},
   "outputs": [
    {
     "name": "stderr",
     "output_type": "stream",
     "text": [
      "  0%|          | 0/100 [00:00<?, ?it/s]"
     ]
    }
   ],
   "source": [
    "optimization_loop(\n",
    "    model, \n",
    "    cheating_trainloader, \n",
    "    cheating_testloader, \n",
    "    criterion, \n",
    "    optimizer, \n",
    "    100, \n",
    "    DEVICE, \n",
    "    patience=30,\n",
    "    min_delta=0.0001,\n",
    ")"
   ]
  },
  {
   "cell_type": "code",
   "execution_count": 72,
   "metadata": {},
   "outputs": [
    {
     "ename": "ValueError",
     "evalue": "Target size (torch.Size([1])) must be the same as input size (torch.Size([1, 1]))",
     "output_type": "error",
     "traceback": [
      "\u001b[0;31m---------------------------------------------------------------------------\u001b[0m",
      "\u001b[0;31mValueError\u001b[0m                                Traceback (most recent call last)",
      "\u001b[1;32m/home/musa/eating/eating-detection/encoderclassifier.ipynb Cell 30\u001b[0m line \u001b[0;36m1\n\u001b[0;32m----> <a href='vscode-notebook-cell://ssh-remote%2B10.173.98.203/home/musa/eating/eating-detection/encoderclassifier.ipynb#X53sdnNjb2RlLXJlbW90ZQ%3D%3D?line=0'>1</a>\u001b[0m ys,metrics \u001b[39m=\u001b[39m evaluate_loop(model, criterion, cheating_trainloader, DEVICE)\n\u001b[1;32m      <a href='vscode-notebook-cell://ssh-remote%2B10.173.98.203/home/musa/eating/eating-detection/encoderclassifier.ipynb#X53sdnNjb2RlLXJlbW90ZQ%3D%3D?line=1'>2</a>\u001b[0m plot_and_save_cm(ys[\u001b[39m'\u001b[39m\u001b[39mtrue\u001b[39m\u001b[39m'\u001b[39m], ys[\u001b[39m'\u001b[39m\u001b[39mpred\u001b[39m\u001b[39m'\u001b[39m])\n\u001b[1;32m      <a href='vscode-notebook-cell://ssh-remote%2B10.173.98.203/home/musa/eating/eating-detection/encoderclassifier.ipynb#X53sdnNjb2RlLXJlbW90ZQ%3D%3D?line=2'>3</a>\u001b[0m summary(metrics)\n",
      "File \u001b[0;32m~/eating/eating-detection/lib/modules.py:136\u001b[0m, in \u001b[0;36mevaluate_loop\u001b[0;34m(model, criterion, devloader, device, outdir)\u001b[0m\n\u001b[1;32m    127\u001b[0m \u001b[39mdef\u001b[39;00m \u001b[39mevaluate_loop\u001b[39m(\n\u001b[1;32m    128\u001b[0m     model: nn\u001b[39m.\u001b[39mModule, \n\u001b[1;32m    129\u001b[0m     criterion: nn\u001b[39m.\u001b[39mModule, \n\u001b[0;32m   (...)\u001b[0m\n\u001b[1;32m    133\u001b[0m \n\u001b[1;32m    134\u001b[0m ) \u001b[39m-\u001b[39m\u001b[39m>\u001b[39m \u001b[39many\u001b[39m:\n\u001b[0;32m--> 136\u001b[0m     y_true, y_pred, confs, dev_lossi \u001b[39m=\u001b[39m inner_evaluate_loop(model, devloader, criterion, device)\n\u001b[1;32m    137\u001b[0m     dev_loss \u001b[39m=\u001b[39m \u001b[39msum\u001b[39m(dev_lossi) \u001b[39m/\u001b[39m \u001b[39mlen\u001b[39m(devloader)\n\u001b[1;32m    139\u001b[0m     \u001b[39mif\u001b[39;00m outdir:\n",
      "File \u001b[0;32m~/eating/eating-detection/lib/modules.py:174\u001b[0m, in \u001b[0;36minner_evaluate_loop\u001b[0;34m(model, devloader, criterion, device)\u001b[0m\n\u001b[1;32m    172\u001b[0m X,y \u001b[39m=\u001b[39m X\u001b[39m.\u001b[39mto(device), y\u001b[39m.\u001b[39mto(device)\n\u001b[1;32m    173\u001b[0m logits \u001b[39m=\u001b[39m model(X)\n\u001b[0;32m--> 174\u001b[0m dev_lossi\u001b[39m.\u001b[39mappend(criterion(logits, y)\u001b[39m.\u001b[39mitem())\n\u001b[1;32m    175\u001b[0m confs \u001b[39m=\u001b[39m torch\u001b[39m.\u001b[39msigmoid(logits)\u001b[39m.\u001b[39mdetach()\u001b[39m.\u001b[39mcpu()\n\u001b[1;32m    176\u001b[0m all_confs\u001b[39m.\u001b[39mappend(confs)\n",
      "File \u001b[0;32m~/eating/eating-detection/env/lib/python3.10/site-packages/torch/nn/modules/module.py:1518\u001b[0m, in \u001b[0;36mModule._wrapped_call_impl\u001b[0;34m(self, *args, **kwargs)\u001b[0m\n\u001b[1;32m   1516\u001b[0m     \u001b[39mreturn\u001b[39;00m \u001b[39mself\u001b[39m\u001b[39m.\u001b[39m_compiled_call_impl(\u001b[39m*\u001b[39margs, \u001b[39m*\u001b[39m\u001b[39m*\u001b[39mkwargs)  \u001b[39m# type: ignore[misc]\u001b[39;00m\n\u001b[1;32m   1517\u001b[0m \u001b[39melse\u001b[39;00m:\n\u001b[0;32m-> 1518\u001b[0m     \u001b[39mreturn\u001b[39;00m \u001b[39mself\u001b[39;49m\u001b[39m.\u001b[39;49m_call_impl(\u001b[39m*\u001b[39;49margs, \u001b[39m*\u001b[39;49m\u001b[39m*\u001b[39;49mkwargs)\n",
      "File \u001b[0;32m~/eating/eating-detection/env/lib/python3.10/site-packages/torch/nn/modules/module.py:1527\u001b[0m, in \u001b[0;36mModule._call_impl\u001b[0;34m(self, *args, **kwargs)\u001b[0m\n\u001b[1;32m   1522\u001b[0m \u001b[39m# If we don't have any hooks, we want to skip the rest of the logic in\u001b[39;00m\n\u001b[1;32m   1523\u001b[0m \u001b[39m# this function, and just call forward.\u001b[39;00m\n\u001b[1;32m   1524\u001b[0m \u001b[39mif\u001b[39;00m \u001b[39mnot\u001b[39;00m (\u001b[39mself\u001b[39m\u001b[39m.\u001b[39m_backward_hooks \u001b[39mor\u001b[39;00m \u001b[39mself\u001b[39m\u001b[39m.\u001b[39m_backward_pre_hooks \u001b[39mor\u001b[39;00m \u001b[39mself\u001b[39m\u001b[39m.\u001b[39m_forward_hooks \u001b[39mor\u001b[39;00m \u001b[39mself\u001b[39m\u001b[39m.\u001b[39m_forward_pre_hooks\n\u001b[1;32m   1525\u001b[0m         \u001b[39mor\u001b[39;00m _global_backward_pre_hooks \u001b[39mor\u001b[39;00m _global_backward_hooks\n\u001b[1;32m   1526\u001b[0m         \u001b[39mor\u001b[39;00m _global_forward_hooks \u001b[39mor\u001b[39;00m _global_forward_pre_hooks):\n\u001b[0;32m-> 1527\u001b[0m     \u001b[39mreturn\u001b[39;00m forward_call(\u001b[39m*\u001b[39;49margs, \u001b[39m*\u001b[39;49m\u001b[39m*\u001b[39;49mkwargs)\n\u001b[1;32m   1529\u001b[0m \u001b[39mtry\u001b[39;00m:\n\u001b[1;32m   1530\u001b[0m     result \u001b[39m=\u001b[39m \u001b[39mNone\u001b[39;00m\n",
      "File \u001b[0;32m~/eating/eating-detection/env/lib/python3.10/site-packages/torch/nn/modules/loss.py:725\u001b[0m, in \u001b[0;36mBCEWithLogitsLoss.forward\u001b[0;34m(self, input, target)\u001b[0m\n\u001b[1;32m    724\u001b[0m \u001b[39mdef\u001b[39;00m \u001b[39mforward\u001b[39m(\u001b[39mself\u001b[39m, \u001b[39minput\u001b[39m: Tensor, target: Tensor) \u001b[39m-\u001b[39m\u001b[39m>\u001b[39m Tensor:\n\u001b[0;32m--> 725\u001b[0m     \u001b[39mreturn\u001b[39;00m F\u001b[39m.\u001b[39;49mbinary_cross_entropy_with_logits(\u001b[39minput\u001b[39;49m, target,\n\u001b[1;32m    726\u001b[0m                                               \u001b[39mself\u001b[39;49m\u001b[39m.\u001b[39;49mweight,\n\u001b[1;32m    727\u001b[0m                                               pos_weight\u001b[39m=\u001b[39;49m\u001b[39mself\u001b[39;49m\u001b[39m.\u001b[39;49mpos_weight,\n\u001b[1;32m    728\u001b[0m                                               reduction\u001b[39m=\u001b[39;49m\u001b[39mself\u001b[39;49m\u001b[39m.\u001b[39;49mreduction)\n",
      "File \u001b[0;32m~/eating/eating-detection/env/lib/python3.10/site-packages/torch/nn/functional.py:3193\u001b[0m, in \u001b[0;36mbinary_cross_entropy_with_logits\u001b[0;34m(input, target, weight, size_average, reduce, reduction, pos_weight)\u001b[0m\n\u001b[1;32m   3190\u001b[0m     reduction_enum \u001b[39m=\u001b[39m _Reduction\u001b[39m.\u001b[39mget_enum(reduction)\n\u001b[1;32m   3192\u001b[0m \u001b[39mif\u001b[39;00m \u001b[39mnot\u001b[39;00m (target\u001b[39m.\u001b[39msize() \u001b[39m==\u001b[39m \u001b[39minput\u001b[39m\u001b[39m.\u001b[39msize()):\n\u001b[0;32m-> 3193\u001b[0m     \u001b[39mraise\u001b[39;00m \u001b[39mValueError\u001b[39;00m(\u001b[39mf\u001b[39m\u001b[39m\"\u001b[39m\u001b[39mTarget size (\u001b[39m\u001b[39m{\u001b[39;00mtarget\u001b[39m.\u001b[39msize()\u001b[39m}\u001b[39;00m\u001b[39m) must be the same as input size (\u001b[39m\u001b[39m{\u001b[39;00m\u001b[39minput\u001b[39m\u001b[39m.\u001b[39msize()\u001b[39m}\u001b[39;00m\u001b[39m)\u001b[39m\u001b[39m\"\u001b[39m)\n\u001b[1;32m   3195\u001b[0m \u001b[39mreturn\u001b[39;00m torch\u001b[39m.\u001b[39mbinary_cross_entropy_with_logits(\u001b[39minput\u001b[39m, target, weight, pos_weight, reduction_enum)\n",
      "\u001b[0;31mValueError\u001b[0m: Target size (torch.Size([1])) must be the same as input size (torch.Size([1, 1]))"
     ]
    }
   ],
   "source": [
    "ys,metrics = evaluate_loop(model, criterion, cheating_trainloader, DEVICE)\n",
    "plot_and_save_cm(ys['true'], ys['pred'])\n",
    "summary(metrics)"
   ]
  },
  {
   "cell_type": "code",
   "execution_count": null,
   "metadata": {},
   "outputs": [],
   "source": [
    "ys,metrics = evaluate_loop(model, criterion, cheating_testloader, DEVICE)\n",
    "plot_and_save_cm(ys['true'], ys['pred'])\n",
    "summary(metrics)"
   ]
  }
 ],
 "metadata": {
  "kernelspec": {
   "display_name": "env",
   "language": "python",
   "name": "python3"
  },
  "language_info": {
   "codemirror_mode": {
    "name": "ipython",
    "version": 3
   },
   "file_extension": ".py",
   "mimetype": "text/x-python",
   "name": "python",
   "nbconvert_exporter": "python",
   "pygments_lexer": "ipython3",
   "version": "3.10.12"
  }
 },
 "nbformat": 4,
 "nbformat_minor": 2
}
