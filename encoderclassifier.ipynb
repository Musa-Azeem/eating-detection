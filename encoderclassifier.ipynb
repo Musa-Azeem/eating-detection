{
 "cells": [
  {
   "cell_type": "code",
   "execution_count": 1,
   "metadata": {},
   "outputs": [],
   "source": [
    "%load_ext autoreload\n",
    "%autoreload 2"
   ]
  },
  {
   "cell_type": "code",
   "execution_count": 2,
   "metadata": {},
   "outputs": [],
   "source": [
    "import torch\n",
    "from torch import nn\n",
    "from lib.modules import (\n",
    "    read_and_window_nursing_session,\n",
    "    read_nursing_session,\n",
    "    read_nursing_labels,\n",
    "    optimization_loop,\n",
    "    evaluate_loop,\n",
    "    predict_and_plot_pretty_session\n",
    ")\n",
    "from lib.utils import (\n",
    "    plot_and_save_cm,\n",
    "    plot_and_save_losses,\n",
    "    summary,\n",
    "    get_bouts_smoothed\n",
    ")\n",
    "from lib.models import ResEncoderClassifier, ResEncoderClassifierAve\n",
    "from pathlib import Path\n",
    "from torch.utils.data import DataLoader, TensorDataset\n",
    "import numpy as np\n",
    "from sklearn.model_selection import train_test_split"
   ]
  },
  {
   "cell_type": "code",
   "execution_count": 3,
   "metadata": {},
   "outputs": [],
   "source": [
    "nursing_raw_dir = Path(\"/home/musa/datasets/nursingv1\")\n",
    "nursing_label_dir = Path(\"/home/musa/datasets/eating_labels\")\n",
    "WINSIZE = 101\n",
    "DEVICE = 'cuda:1'\n",
    "autoencoder_dir = Path('dev2/5_autoencoder-resnet')\n",
    "encoderclass_dir = Path('dev4/tmp')"
   ]
  },
  {
   "cell_type": "markdown",
   "metadata": {},
   "source": [
    "# Data Processing"
   ]
  },
  {
   "cell_type": "code",
   "execution_count": 4,
   "metadata": {},
   "outputs": [],
   "source": [
    "all_sessions = set(range(71))\n",
    "not_labeled = {0, 1, 2, 3, 4, 5, 6, 7, 8, 9, 10, 34, 70}\n",
    "reserved = {15, 43, 45, 51, 55}\n",
    "sessions = list(all_sessions - not_labeled - reserved)\n",
    "np.random.seed(10)\n",
    "train_sessions, test_sessions = train_test_split(sessions, test_size=0.25)"
   ]
  },
  {
   "cell_type": "code",
   "execution_count": 5,
   "metadata": {},
   "outputs": [],
   "source": [
    "# train_sessions = [25, 67, 42, 50, 22, 61, 33, 21, 16, 18]\n",
    "# test_sessions = [58, 62]\n",
    "\n",
    "Xs = []\n",
    "ys = []\n",
    "\n",
    "for session_idx in train_sessions:\n",
    "    X,y = read_and_window_nursing_session(session_idx, WINSIZE, nursing_raw_dir, nursing_label_dir)\n",
    "\n",
    "    Xs.append(X)\n",
    "    ys.append(y)\n",
    "\n",
    "Xtr = torch.cat(Xs)\n",
    "ytr = torch.cat(ys)\n",
    "\n",
    "Xs = []\n",
    "ys = []\n",
    "\n",
    "for session_idx in test_sessions:\n",
    "    X,y = read_and_window_nursing_session(session_idx, WINSIZE, nursing_raw_dir, nursing_label_dir)\n",
    "\n",
    "    Xs.append(X)\n",
    "    ys.append(y)\n",
    "\n",
    "Xte = torch.cat(Xs)\n",
    "yte = torch.cat(ys)"
   ]
  },
  {
   "cell_type": "code",
   "execution_count": null,
   "metadata": {},
   "outputs": [],
   "source": [
    "nursing_trainloader = DataLoader(TensorDataset(Xtr, ytr), batch_size=64, shuffle=True)\n",
    "nursing_testloader = DataLoader(TensorDataset(Xte,yte), batch_size=64)\n",
    "\n",
    "torch.save(nursing_trainloader, 'pytorch_datasets/nursing_trainloader_11-25-23.pt')\n",
    "torch.save(nursing_testloader, 'pytorch_datasets/nursing_testloader_11-25-23.pt')"
   ]
  },
  {
   "cell_type": "markdown",
   "metadata": {},
   "source": [
    "# Train"
   ]
  },
  {
   "cell_type": "code",
   "execution_count": 5,
   "metadata": {},
   "outputs": [],
   "source": [
    "nursing_trainloader = torch.load('pytorch_datasets/nursing_trainloader_11-25-23.pt')\n",
    "nursing_testloader = torch.load('pytorch_datasets/nursing_testloader_11-25-23.pt')"
   ]
  },
  {
   "cell_type": "code",
   "execution_count": null,
   "metadata": {},
   "outputs": [],
   "source": [
    "# nursing_trainloader = torch.load('pytorch_datasets/nursing_trainloader-test.pt')\n",
    "# nursing_testloader = torch.load('pytorch_datasets/nursing_testloader-test.pt')"
   ]
  },
  {
   "cell_type": "code",
   "execution_count": 5,
   "metadata": {},
   "outputs": [
    {
     "name": "stdout",
     "output_type": "stream",
     "text": [
      "Model is loading pretrained encoder\n",
      "Model is freezing encoder\n"
     ]
    }
   ],
   "source": [
    "model = ResEncoderClassifier(WINSIZE, weights_file=autoencoder_dir / 'best_model.pt', freeze=True).to(DEVICE)\n",
    "optimizer = torch.optim.Adam(model.parameters(), lr=3e-4)\n",
    "criterion = nn.BCEWithLogitsLoss()"
   ]
  },
  {
   "cell_type": "code",
   "execution_count": 7,
   "metadata": {},
   "outputs": [
    {
     "name": "stderr",
     "output_type": "stream",
     "text": [
      ": Epoch 1: Train Loss: 0.46324: Dev Loss: 0.46501: 100%|██████████| 2/2 [10:32<00:00, 316.17s/it]\n"
     ]
    },
    {
     "ename": "",
     "evalue": "",
     "output_type": "error",
     "traceback": [
      "\u001b[1;31mThe Kernel crashed while executing code in the the current cell or a previous cell. Please review the code in the cell(s) to identify a possible cause of the failure. Click <a href='https://aka.ms/vscodeJupyterKernelCrash'>here</a> for more info. View Jupyter <a href='command:jupyter.viewOutput'>log</a> for further details."
     ]
    }
   ],
   "source": [
    "optimization_loop(model, nursing_trainloader, nursing_testloader, criterion, optimizer, 2, DEVICE, patience=20, min_delta=0.001, outdir=encoderclass_dir)"
   ]
  },
  {
   "cell_type": "markdown",
   "metadata": {},
   "source": [
    "# Evaluate\n"
   ]
  },
  {
   "cell_type": "code",
   "execution_count": null,
   "metadata": {},
   "outputs": [],
   "source": [
    "nursing_trainloader = torch.load('pytorch_datasets/nursing_trainloader_11-16-23.pt')\n",
    "nursing_testloader = torch.load('pytorch_datasets/nursing_testloader_11-16-23.pt')"
   ]
  },
  {
   "cell_type": "code",
   "execution_count": 8,
   "metadata": {},
   "outputs": [
    {
     "name": "stdout",
     "output_type": "stream",
     "text": [
      "Model is loading pretrained encoder\n",
      "Model is freezing encoder\n"
     ]
    }
   ],
   "source": [
    "model = ResEncoderClassifier(WINSIZE, weights_file=autoencoder_dir / 'best_model.pt', freeze=True).to(DEVICE)\n",
    "optimizer = torch.optim.Adam(model.parameters(), lr=3e-4)\n",
    "criterion = nn.BCEWithLogitsLoss()"
   ]
  },
  {
   "cell_type": "code",
   "execution_count": 9,
   "metadata": {},
   "outputs": [
    {
     "data": {
      "text/plain": [
       "<All keys matched successfully>"
      ]
     },
     "execution_count": 9,
     "metadata": {},
     "output_type": "execute_result"
    }
   ],
   "source": [
    "model.load_state_dict(torch.load('dev3/5_encoderclass-resnet_1-pretrained-frozen/best_model.pt'))"
   ]
  },
  {
   "cell_type": "code",
   "execution_count": 10,
   "metadata": {},
   "outputs": [
    {
     "data": {
      "image/png": "[encoded data removed]",
      "text/plain": [
       "<Figure size 1600x900 with 3 Axes>"
      ]
     },
     "metadata": {},
     "output_type": "display_data"
    },
    {
     "name": "stdout",
     "output_type": "stream",
     "text": [
      "Metric        Value\n",
      "---------  --------\n",
      "loss       0.421324\n",
      "precision  0.675341\n",
      "recall     0.360613\n",
      "f1         0.470169\n"
     ]
    }
   ],
   "source": [
    "ys,metrics = evaluate_loop(model, criterion, nursing_trainloader, DEVICE)\n",
    "plot_and_save_cm(ys['true'], ys['pred'])\n",
    "summary(metrics)"
   ]
  },
  {
   "cell_type": "code",
   "execution_count": 11,
   "metadata": {},
   "outputs": [
    {
     "data": {
      "image/png": "[encoded data removed]",
      "text/plain": [
       "<Figure size 1600x900 with 3 Axes>"
      ]
     },
     "metadata": {},
     "output_type": "display_data"
    },
    {
     "name": "stdout",
     "output_type": "stream",
     "text": [
      "Metric        Value\n",
      "---------  --------\n",
      "loss       0.436084\n",
      "precision  0.627648\n",
      "recall     0.313512\n",
      "f1         0.418154\n"
     ]
    }
   ],
   "source": [
    "ys,metrics = evaluate_loop(model, criterion, nursing_testloader, DEVICE)\n",
    "plot_and_save_cm(ys['true'], ys['pred'])\n",
    "summary(metrics)"
   ]
  },
  {
   "cell_type": "code",
   "execution_count": 15,
   "metadata": {},
   "outputs": [
    {
     "name": "stdout",
     "output_type": "stream",
     "text": [
      "Metric        Value\n",
      "---------  --------\n",
      "loss       0.452703\n",
      "precision  0.69058\n",
      "recall     0.15281\n",
      "f1         0.250246\n"
     ]
    }
   ],
   "source": [
    "test_session = test_sessions[0]\n",
    "\n",
    "predict_and_plot_pretty_session(\n",
    "    session_idx=test_session,\n",
    "    dim_factor=5,\n",
    "    datapath=nursing_raw_dir,\n",
    "    labelpath=nursing_label_dir,\n",
    "    winsize=WINSIZE,\n",
    "    model=model,\n",
    "    criterion=criterion,\n",
    "    batch_size=64,\n",
    "    device=DEVICE,\n",
    "    smooth=True\n",
    ")"
   ]
  }
 ],
 "metadata": {
  "kernelspec": {
   "display_name": "env",
   "language": "python",
   "name": "python3"
  },
  "language_info": {
   "codemirror_mode": {
    "name": "ipython",
    "version": 3
   },
   "file_extension": ".py",
   "mimetype": "text/x-python",
   "name": "python",
   "nbconvert_exporter": "python",
   "pygments_lexer": "ipython3",
   "version": "3.10.12"
  }
 },
 "nbformat": 4,
 "nbformat_minor": 2
}
