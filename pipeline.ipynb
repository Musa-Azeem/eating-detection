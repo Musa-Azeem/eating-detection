{
 "cells": [
  {
   "cell_type": "code",
   "execution_count": 1,
   "metadata": {},
   "outputs": [],
   "source": [
    "import pandas as pd\n",
    "import time\n",
    "import datetime\n",
    "import plotly.express as px\n",
    "from pathlib import Path\n",
    "import torch\n",
    "from lib.models import MLP2hl\n",
    "from lib.modules import evaluate_loop, plot_and_save_cm, summary, window_session, pad_for_windowing, predict_and_plot_pretty_session\n",
    "from lib.utils import get_bouts_smoothed\n",
    "from torch import nn\n",
    "from torch.utils.data import DataLoader, TensorDataset"
   ]
  },
  {
   "cell_type": "code",
   "execution_count": 2,
   "metadata": {},
   "outputs": [],
   "source": [
    "WINSIZE = 101\n",
    "DEVICE = 'cuda:1'"
   ]
  },
  {
   "cell_type": "code",
   "execution_count": 3,
   "metadata": {},
   "outputs": [],
   "source": [
    "data_dir = Path('../data/andrew/2023-10-26_15_32_20/')\n",
    "acceleration = pd.read_csv(data_dir / 'acceleration.csv',skiprows=1).rename({'x':'x_acc', 'y':'y_acc', 'z':'z_acc'}, axis=1)\n",
    "acceleration_start_time_seconds = float(pd.read_csv(data_dir / 'acceleration.csv',nrows=1,header=None).iloc[0,0].split()[-1])/1000\n",
    "acceleration.timestamp = ((acceleration.timestamp - acceleration.timestamp[0])*1e-9)+acceleration_start_time_seconds\n",
    "acceleration = acceleration.dropna()\n",
    "\n",
    "start = int(datetime.datetime(2023, 10, 26, 16, 20, 0).strftime('%s'))\n",
    "end = int(datetime.datetime(2023, 10, 26, 16, 37, 0).strftime('%s'))\n",
    "acceleration['label'] = 0\n",
    "acceleration.loc[(acceleration.timestamp > start) & (acceleration.timestamp < end),'label'] = 1\n",
    "\n",
    "print(session_dir.name)\n",
    "print(len(acceleration))\n",
    "print(f'{timedelta(seconds=acceleration.timestamp.iloc[-1] - acceleration.timestamp.iloc[0])}')"
   ]
  },
  {
   "cell_type": "code",
   "execution_count": 4,
   "metadata": {},
   "outputs": [],
   "source": [
    "Xte = torch.Tensor(acceleration[['x_acc','y_acc','z_acc']].values)\n",
    "yte = torch.Tensor(acceleration['label'].values).unsqueeze(1)\n",
    "\n",
    "Xte = pad_for_windowing(Xte, WINSIZE)\n",
    "Xte = window_session(Xte, WINSIZE)"
   ]
  },
  {
   "cell_type": "code",
   "execution_count": 5,
   "metadata": {},
   "outputs": [],
   "source": [
    "model = MLP2hl([20,20], WINSIZE).to(DEVICE)\n",
    "optimizer = torch.optim.Adam(model.parameters())\n",
    "criterion = nn.BCEWithLogitsLoss()"
   ]
  },
  {
   "cell_type": "code",
   "execution_count": 12,
   "metadata": {},
   "outputs": [
    {
     "data": {
      "text/plain": [
       "<All keys matched successfully>"
      ]
     },
     "execution_count": 12,
     "metadata": {},
     "output_type": "execute_result"
    }
   ],
   "source": [
    "model.load_state_dict(torch.load(Path('dev/mlp2hl/best_model.pt')))\n",
    "# model.load_state_dict(torch.load(Path('dev/mlp2hl_3/model/1.pt')))"
   ]
  },
  {
   "cell_type": "code",
   "execution_count": 13,
   "metadata": {},
   "outputs": [
    {
     "ename": "KeyboardInterrupt",
     "evalue": "",
     "output_type": "error",
     "traceback": [
      "\u001b[0;31m---------------------------------------------------------------------------\u001b[0m",
      "\u001b[0;31mKeyboardInterrupt\u001b[0m                         Traceback (most recent call last)",
      "\u001b[1;32m/home/musa/eating/eating-detection/pipeline.ipynb Cell 7\u001b[0m line \u001b[0;36m2\n\u001b[1;32m      <a href='vscode-notebook-cell://ssh-remote%2B10.173.98.203/home/musa/eating/eating-detection/pipeline.ipynb#W6sdnNjb2RlLXJlbW90ZQ%3D%3D?line=0'>1</a>\u001b[0m testloader \u001b[39m=\u001b[39m DataLoader(TensorDataset(Xte,yte), batch_size\u001b[39m=\u001b[39m\u001b[39m64\u001b[39m)\n\u001b[0;32m----> <a href='vscode-notebook-cell://ssh-remote%2B10.173.98.203/home/musa/eating/eating-detection/pipeline.ipynb#W6sdnNjb2RlLXJlbW90ZQ%3D%3D?line=1'>2</a>\u001b[0m ys,metrics \u001b[39m=\u001b[39m evaluate_loop(model, criterion, testloader, DEVICE)\n\u001b[1;32m      <a href='vscode-notebook-cell://ssh-remote%2B10.173.98.203/home/musa/eating/eating-detection/pipeline.ipynb#W6sdnNjb2RlLXJlbW90ZQ%3D%3D?line=2'>3</a>\u001b[0m plot_and_save_cm(ys[\u001b[39m'\u001b[39m\u001b[39mtrue\u001b[39m\u001b[39m'\u001b[39m], ys[\u001b[39m'\u001b[39m\u001b[39mpred\u001b[39m\u001b[39m'\u001b[39m])\n\u001b[1;32m      <a href='vscode-notebook-cell://ssh-remote%2B10.173.98.203/home/musa/eating/eating-detection/pipeline.ipynb#W6sdnNjb2RlLXJlbW90ZQ%3D%3D?line=3'>4</a>\u001b[0m summary(metrics)\n",
      "File \u001b[0;32m~/eating/eating-detection/lib/modules.py:107\u001b[0m, in \u001b[0;36mevaluate_loop\u001b[0;34m(model, criterion, devloader, device, outdir)\u001b[0m\n\u001b[1;32m     98\u001b[0m \u001b[39mdef\u001b[39;00m \u001b[39mevaluate_loop\u001b[39m(\n\u001b[1;32m     99\u001b[0m     model: nn\u001b[39m.\u001b[39mModule, \n\u001b[1;32m    100\u001b[0m     criterion: nn\u001b[39m.\u001b[39mModule, \n\u001b[0;32m   (...)\u001b[0m\n\u001b[1;32m    104\u001b[0m \n\u001b[1;32m    105\u001b[0m ) \u001b[39m-\u001b[39m\u001b[39m>\u001b[39m \u001b[39many\u001b[39m:\n\u001b[0;32m--> 107\u001b[0m     y_true, y_pred, confs, dev_lossi \u001b[39m=\u001b[39m inner_evaluate_loop(model, devloader, criterion, device)\n\u001b[1;32m    108\u001b[0m     dev_loss \u001b[39m=\u001b[39m \u001b[39msum\u001b[39m(dev_lossi) \u001b[39m/\u001b[39m \u001b[39mlen\u001b[39m(devloader)\n\u001b[1;32m    110\u001b[0m     \u001b[39mif\u001b[39;00m outdir:\n",
      "File \u001b[0;32m~/eating/eating-detection/lib/modules.py:144\u001b[0m, in \u001b[0;36minner_evaluate_loop\u001b[0;34m(model, devloader, criterion, device)\u001b[0m\n\u001b[1;32m    142\u001b[0m y_true\u001b[39m.\u001b[39mappend(y)\n\u001b[1;32m    143\u001b[0m X,y \u001b[39m=\u001b[39m X\u001b[39m.\u001b[39mto(device), y\u001b[39m.\u001b[39mto(device)\n\u001b[0;32m--> 144\u001b[0m logits \u001b[39m=\u001b[39m model(X)\n\u001b[1;32m    145\u001b[0m dev_lossi\u001b[39m.\u001b[39mappend(criterion(logits, y)\u001b[39m.\u001b[39mitem())\n\u001b[1;32m    146\u001b[0m confs \u001b[39m=\u001b[39m torch\u001b[39m.\u001b[39msigmoid(logits)\u001b[39m.\u001b[39mdetach()\u001b[39m.\u001b[39mcpu()\n",
      "File \u001b[0;32m~/eating/eating-detection/env/lib/python3.10/site-packages/torch/nn/modules/module.py:1518\u001b[0m, in \u001b[0;36mModule._wrapped_call_impl\u001b[0;34m(self, *args, **kwargs)\u001b[0m\n\u001b[1;32m   1516\u001b[0m     \u001b[39mreturn\u001b[39;00m \u001b[39mself\u001b[39m\u001b[39m.\u001b[39m_compiled_call_impl(\u001b[39m*\u001b[39margs, \u001b[39m*\u001b[39m\u001b[39m*\u001b[39mkwargs)  \u001b[39m# type: ignore[misc]\u001b[39;00m\n\u001b[1;32m   1517\u001b[0m \u001b[39melse\u001b[39;00m:\n\u001b[0;32m-> 1518\u001b[0m     \u001b[39mreturn\u001b[39;00m \u001b[39mself\u001b[39;49m\u001b[39m.\u001b[39;49m_call_impl(\u001b[39m*\u001b[39;49margs, \u001b[39m*\u001b[39;49m\u001b[39m*\u001b[39;49mkwargs)\n",
      "File \u001b[0;32m~/eating/eating-detection/env/lib/python3.10/site-packages/torch/nn/modules/module.py:1527\u001b[0m, in \u001b[0;36mModule._call_impl\u001b[0;34m(self, *args, **kwargs)\u001b[0m\n\u001b[1;32m   1522\u001b[0m \u001b[39m# If we don't have any hooks, we want to skip the rest of the logic in\u001b[39;00m\n\u001b[1;32m   1523\u001b[0m \u001b[39m# this function, and just call forward.\u001b[39;00m\n\u001b[1;32m   1524\u001b[0m \u001b[39mif\u001b[39;00m \u001b[39mnot\u001b[39;00m (\u001b[39mself\u001b[39m\u001b[39m.\u001b[39m_backward_hooks \u001b[39mor\u001b[39;00m \u001b[39mself\u001b[39m\u001b[39m.\u001b[39m_backward_pre_hooks \u001b[39mor\u001b[39;00m \u001b[39mself\u001b[39m\u001b[39m.\u001b[39m_forward_hooks \u001b[39mor\u001b[39;00m \u001b[39mself\u001b[39m\u001b[39m.\u001b[39m_forward_pre_hooks\n\u001b[1;32m   1525\u001b[0m         \u001b[39mor\u001b[39;00m _global_backward_pre_hooks \u001b[39mor\u001b[39;00m _global_backward_hooks\n\u001b[1;32m   1526\u001b[0m         \u001b[39mor\u001b[39;00m _global_forward_hooks \u001b[39mor\u001b[39;00m _global_forward_pre_hooks):\n\u001b[0;32m-> 1527\u001b[0m     \u001b[39mreturn\u001b[39;00m forward_call(\u001b[39m*\u001b[39;49margs, \u001b[39m*\u001b[39;49m\u001b[39m*\u001b[39;49mkwargs)\n\u001b[1;32m   1529\u001b[0m \u001b[39mtry\u001b[39;00m:\n\u001b[1;32m   1530\u001b[0m     result \u001b[39m=\u001b[39m \u001b[39mNone\u001b[39;00m\n",
      "File \u001b[0;32m~/eating/eating-detection/lib/models.py:27\u001b[0m, in \u001b[0;36mMLP2hl.forward\u001b[0;34m(self, x)\u001b[0m\n\u001b[1;32m     25\u001b[0m \u001b[39mdef\u001b[39;00m \u001b[39mforward\u001b[39m(\u001b[39mself\u001b[39m, x):\n\u001b[1;32m     26\u001b[0m     x \u001b[39m=\u001b[39m x\u001b[39m.\u001b[39mflatten(start_dim\u001b[39m=\u001b[39m\u001b[39m1\u001b[39m)\n\u001b[0;32m---> 27\u001b[0m     x \u001b[39m=\u001b[39m \u001b[39mself\u001b[39;49m\u001b[39m.\u001b[39;49mh1(x)\n\u001b[1;32m     28\u001b[0m     x \u001b[39m=\u001b[39m nn\u001b[39m.\u001b[39mReLU()(x)\n\u001b[1;32m     29\u001b[0m     x \u001b[39m=\u001b[39m \u001b[39mself\u001b[39m\u001b[39m.\u001b[39mh2(x)\n",
      "File \u001b[0;32m~/eating/eating-detection/env/lib/python3.10/site-packages/torch/nn/modules/module.py:1518\u001b[0m, in \u001b[0;36mModule._wrapped_call_impl\u001b[0;34m(self, *args, **kwargs)\u001b[0m\n\u001b[1;32m   1516\u001b[0m     \u001b[39mreturn\u001b[39;00m \u001b[39mself\u001b[39m\u001b[39m.\u001b[39m_compiled_call_impl(\u001b[39m*\u001b[39margs, \u001b[39m*\u001b[39m\u001b[39m*\u001b[39mkwargs)  \u001b[39m# type: ignore[misc]\u001b[39;00m\n\u001b[1;32m   1517\u001b[0m \u001b[39melse\u001b[39;00m:\n\u001b[0;32m-> 1518\u001b[0m     \u001b[39mreturn\u001b[39;00m \u001b[39mself\u001b[39;49m\u001b[39m.\u001b[39;49m_call_impl(\u001b[39m*\u001b[39;49margs, \u001b[39m*\u001b[39;49m\u001b[39m*\u001b[39;49mkwargs)\n",
      "File \u001b[0;32m~/eating/eating-detection/env/lib/python3.10/site-packages/torch/nn/modules/module.py:1527\u001b[0m, in \u001b[0;36mModule._call_impl\u001b[0;34m(self, *args, **kwargs)\u001b[0m\n\u001b[1;32m   1522\u001b[0m \u001b[39m# If we don't have any hooks, we want to skip the rest of the logic in\u001b[39;00m\n\u001b[1;32m   1523\u001b[0m \u001b[39m# this function, and just call forward.\u001b[39;00m\n\u001b[1;32m   1524\u001b[0m \u001b[39mif\u001b[39;00m \u001b[39mnot\u001b[39;00m (\u001b[39mself\u001b[39m\u001b[39m.\u001b[39m_backward_hooks \u001b[39mor\u001b[39;00m \u001b[39mself\u001b[39m\u001b[39m.\u001b[39m_backward_pre_hooks \u001b[39mor\u001b[39;00m \u001b[39mself\u001b[39m\u001b[39m.\u001b[39m_forward_hooks \u001b[39mor\u001b[39;00m \u001b[39mself\u001b[39m\u001b[39m.\u001b[39m_forward_pre_hooks\n\u001b[1;32m   1525\u001b[0m         \u001b[39mor\u001b[39;00m _global_backward_pre_hooks \u001b[39mor\u001b[39;00m _global_backward_hooks\n\u001b[1;32m   1526\u001b[0m         \u001b[39mor\u001b[39;00m _global_forward_hooks \u001b[39mor\u001b[39;00m _global_forward_pre_hooks):\n\u001b[0;32m-> 1527\u001b[0m     \u001b[39mreturn\u001b[39;00m forward_call(\u001b[39m*\u001b[39;49margs, \u001b[39m*\u001b[39;49m\u001b[39m*\u001b[39;49mkwargs)\n\u001b[1;32m   1529\u001b[0m \u001b[39mtry\u001b[39;00m:\n\u001b[1;32m   1530\u001b[0m     result \u001b[39m=\u001b[39m \u001b[39mNone\u001b[39;00m\n",
      "File \u001b[0;32m~/eating/eating-detection/env/lib/python3.10/site-packages/torch/nn/modules/linear.py:114\u001b[0m, in \u001b[0;36mLinear.forward\u001b[0;34m(self, input)\u001b[0m\n\u001b[1;32m    113\u001b[0m \u001b[39mdef\u001b[39;00m \u001b[39mforward\u001b[39m(\u001b[39mself\u001b[39m, \u001b[39minput\u001b[39m: Tensor) \u001b[39m-\u001b[39m\u001b[39m>\u001b[39m Tensor:\n\u001b[0;32m--> 114\u001b[0m     \u001b[39mreturn\u001b[39;00m F\u001b[39m.\u001b[39;49mlinear(\u001b[39minput\u001b[39;49m, \u001b[39mself\u001b[39;49m\u001b[39m.\u001b[39;49mweight, \u001b[39mself\u001b[39;49m\u001b[39m.\u001b[39;49mbias)\n",
      "\u001b[0;31mKeyboardInterrupt\u001b[0m: "
     ]
    }
   ],
   "source": [
    "testloader = DataLoader(TensorDataset(Xte,yte), batch_size=64)\n",
    "ys,metrics = evaluate_loop(model, criterion, testloader, DEVICE)\n",
    "plot_and_save_cm(ys['true'], ys['pred'])\n",
    "summary(metrics)"
   ]
  },
  {
   "cell_type": "code",
   "execution_count": null,
   "metadata": {},
   "outputs": [],
   "source": [
    "# Cut off part of session\n",
    "buffer = 700_000\n",
    "dim_factor = 10\n",
    "\n",
    "first_pos = max(acceleration.loc[acceleration['label']==1].index[0]-buffer, 0)\n",
    "last_pos = min(acceleration.loc[acceleration['label']==1].index[-1]+buffer, len(acceleration))\n",
    "\n",
    "session = acceleration.loc[first_pos:last_pos-1, ['x_acc','y_acc','z_acc', 'label']].reset_index(drop=True)\n",
    "session['Predicted Eating'] = ys['pred'][first_pos:last_pos]\n",
    "session['Confidence'] = ys['conf'][first_pos:last_pos]\n",
    "\n",
    "pred_bouts = get_bouts_smoothed(ys['pred'][first_pos:last_pos])\n",
    "\n",
    "fig = px.line(\n",
    "    session[::dim_factor], \n",
    "    x=session.index[::dim_factor], \n",
    "    y=['x_acc','y_acc','z_acc', 'Predicted Eating', 'Confidence']\n",
    ")\n",
    "fig.add_vrect(\n",
    "    x0=session.loc[session['label']==1].index[0], \n",
    "    x1=session.loc[session['label']==1].index[-1], \n",
    "    fillcolor='black', \n",
    "    opacity=.2,\n",
    "    line_width=0,\n",
    "    layer=\"below\"\n",
    ")\n",
    "for bout in pred_bouts:\n",
    "    fig.add_vrect(\n",
    "        x0=bout['start'], \n",
    "        x1=bout['end'], \n",
    "        fillcolor='red', \n",
    "        opacity=.2,\n",
    "        line_width=0,\n",
    "        layer=\"below\"\n",
    "    )\n",
    "fig.show(renderer='browser')"
   ]
  },
  {
   "cell_type": "code",
   "execution_count": null,
   "metadata": {},
   "outputs": [],
   "source": [
    "fig.write_html('dev/mlp2hl_andrew_plot.html')"
   ]
  }
 ],
 "metadata": {
  "kernelspec": {
   "display_name": "Python 3.10.12 ('env': venv)",
   "language": "python",
   "name": "python3"
  },
  "language_info": {
   "codemirror_mode": {
    "name": "ipython",
    "version": 3
   },
   "file_extension": ".py",
   "mimetype": "text/x-python",
   "name": "python",
   "nbconvert_exporter": "python",
   "pygments_lexer": "ipython3",
   "version": "3.10.12"
  },
  "orig_nbformat": 4,
  "vscode": {
   "interpreter": {
    "hash": "07a7e9baaa56ad5291b67d7a98d93b7d3a1f6016f598f84e49730f5552732cf1"
   }
  }
 },
 "nbformat": 4,
 "nbformat_minor": 2
}
