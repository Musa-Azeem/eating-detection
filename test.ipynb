{
 "cells": [
  {
   "cell_type": "code",
   "execution_count": 1,
   "metadata": {},
   "outputs": [],
   "source": [
    "import pandas as pd\n",
    "import torch\n",
    "import torch.nn as nn\n",
    "from pathlib import Path\n",
    "from torch.utils.data import TensorDataset, DataLoader\n",
    "from lib.models import  ConvAutoencoderImproved, EncoderClassifierImproved, ConvEncoderClassifierImproved\n",
    "from lib.modules import optimization_loop_xonly, optimization_loop\n",
    "from tqdm import tqdm\n",
    "import matplotlib.pyplot as plt\n",
    "from lib.utils import plot_and_save_losses\n",
    "from pathlib import Path\n",
    "from lib.datasets import AccRawDataset"
   ]
  },
  {
   "cell_type": "code",
   "execution_count": null,
   "metadata": {},
   "outputs": [],
   "source": [
    "class ResNetAutoencoder(nn.Module):\n",
    "    def __init__(self):\n",
    "        super().__init__()\n",
    "        \n",
    "\n",
    "    def forward(x):\n",
    "        return x\n",
    "    \n",
    "    def resnet_block():\n",
    "        return nn.Sequential(\n",
    "            nn.Conv1d()\n",
    "        )\n",
    "    \n",
    "    def inner_res_block(in_channels, out_channels, kernel_size, padding, in_len, relu=True):\n",
    "        r = nn.Sequential(\n",
    "            nn.Conv1d(in_channels, out_channels, kernel_size, padding=padding),\n",
    "            nn.LayerNorm((out_channels, in_len))\n",
    "        )\n",
    "        if relu:\n",
    "            r.append(nn.ReLU())\n",
    "\n"
   ]
  }
 ],
 "metadata": {
  "kernelspec": {
   "display_name": "env",
   "language": "python",
   "name": "python3"
  },
  "language_info": {
   "codemirror_mode": {
    "name": "ipython",
    "version": 3
   },
   "file_extension": ".py",
   "mimetype": "text/x-python",
   "name": "python",
   "nbconvert_exporter": "python",
   "pygments_lexer": "ipython3",
   "version": "3.10.12"
  }
 },
 "nbformat": 4,
 "nbformat_minor": 2
}
