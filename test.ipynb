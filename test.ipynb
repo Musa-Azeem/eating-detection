{
 "cells": [
  {
   "cell_type": "code",
   "execution_count": 71,
   "metadata": {},
   "outputs": [],
   "source": [
    "import torch \n",
    "from torch import nn\n",
    "\n",
    "class ConvAutoencoderNew(nn.Module):\n",
    "    def __init__(self, winsize):\n",
    "        super().__init__()\n",
    "        self.winsize = winsize\n",
    "        self.encoder = nn.Sequential(\n",
    "            nn.Conv1d(in_channels=3, out_channels=16, kernel_size=15, padding=7), # Nx3x101 -> Nx16x101\n",
    "            nn.MaxPool1d(kernel_size=3, stride=3), # Nx16x101 -> Nx16x33\n",
    "            nn.ReLU(),\n",
    "            nn.Conv1d(in_channels=16, out_channels=8, kernel_size=9, padding=4), # Nx16x33 -> Nx8x33\n",
    "            nn.ReLU(),\n",
    "            nn.MaxPool1d(kernel_size=3, stride=3), # Nx8x33 -> Nx8x11,\n",
    "            nn.Conv1d(in_channels=8, out_channels=4, kernel_size=5, padding=2), # Nx8x11 -> Nx4x11\n",
    "            nn.ReLU()\n",
    "        )\n",
    "        self.decoder = nn.Sequential(\n",
    "            nn.ConvTranspose1d(in_channels=4, out_channels=8, kernel_size=5, padding=2), # Nx4x11 -> Nx8x11\n",
    "            nn.ReLU(),\n",
    "            nn.Upsample(scale_factor=3, mode='nearest'), # Nx8x11 -> Nx8x33\n",
    "            nn.ReLU(),\n",
    "            nn.ConvTranspose1d(in_channels=8, out_channels=16, kernel_size=9, padding=4), # Nx8x33 -> Nx16x33\n",
    "            nn.Upsample(scale_factor=3.09, mode='nearest'), # Nx16x33 -> Nx16x101\n",
    "            nn.ReLU(),\n",
    "            nn.ConvTranspose1d(in_channels=16, out_channels=3, kernel_size=15, padding=7), # Nx16x101 -> Nx3x101\n",
    "        )\n",
    "\n",
    "    def forward(self, x):\n",
    "        x = x.view(-1,3,self.winsize)\n",
    "        x = self.encoder(x)\n",
    "        x = self.decoder(x)\n",
    "        return x.flatten(start_dim=1)"
   ]
  },
  {
   "cell_type": "code",
   "execution_count": 73,
   "metadata": {},
   "outputs": [
    {
     "data": {
      "text/plain": [
       "torch.Size([10, 303])"
      ]
     },
     "execution_count": 73,
     "metadata": {},
     "output_type": "execute_result"
    }
   ],
   "source": [
    "X = torch.zeros(10,3,101)\n",
    "\n",
    "model = ConvAutoencoderNew(101)\n",
    "\n",
    "model(X).shape"
   ]
  }
 ],
 "metadata": {
  "kernelspec": {
   "display_name": "env",
   "language": "python",
   "name": "python3"
  },
  "language_info": {
   "codemirror_mode": {
    "name": "ipython",
    "version": 3
   },
   "file_extension": ".py",
   "mimetype": "text/x-python",
   "name": "python",
   "nbconvert_exporter": "python",
   "pygments_lexer": "ipython3",
   "version": "3.10.12"
  }
 },
 "nbformat": 4,
 "nbformat_minor": 2
}
