{
 "cells": [
  {
   "cell_type": "code",
   "execution_count": 10,
   "metadata": {},
   "outputs": [],
   "source": [
    "import torch\n",
    "from torch import nn\n",
    "from lib.config import *\n",
    "from lib.data.dataloading import load_raw"
   ]
  },
  {
   "cell_type": "code",
   "execution_count": 7,
   "metadata": {},
   "outputs": [
    {
     "name": "stdout",
     "output_type": "stream",
     "text": [
      "Using Directories: ['2023-11-02_13_55_22']\n",
      "Index: 0, Date: 2023-11-02_13_55_22, nSamples: 2499818, Time Elapsed: 13:04:33.095864, Time Recorded: 6:56:38.180000\n",
      "Created 694 chunks of length 3600 samples each\n",
      "Randomly selected 50 chunks\n",
      "Total train length: 0:19:10 (115000 Samples)\n",
      "Total test length: 0:19:10 (115000 Samples)\n"
     ]
    }
   ],
   "source": [
    "WINSIZE = 1001\n",
    "trainloader, testloader = load_raw(\n",
    "    RAW_DIR,\n",
    "    WINSIZE,\n",
    "    n_hours=0.5,\n",
    "    sessions=['2023-11-02_13_55_22'],\n",
    "    test_size=0.5,\n",
    "    batch_size=32,\n",
    "    shuffle_test=True,\n",
    "    chunk_len_hrs=0.01\n",
    ")"
   ]
  },
  {
   "cell_type": "code",
   "execution_count": 52,
   "metadata": {},
   "outputs": [],
   "source": [
    "class ResBlockMAE(nn.Module):\n",
    "    def __init__(self, in_channels, out_channels, kernel_size, padding, seq_len, relu=True, p_dropout=None):\n",
    "        super().__init__()\n",
    "        self.use_relu = relu\n",
    "        self.c = nn.Sequential(\n",
    "            nn.Conv1d(in_channels, out_channels, kernel_size=kernel_size, padding=padding),\n",
    "            nn.LayerNorm((out_channels, seq_len)),\n",
    "            nn.ReLU(),\n",
    "            nn.Conv1d(out_channels, out_channels, kernel_size=kernel_size, padding=padding),\n",
    "            nn.LayerNorm((out_channels, seq_len)),\n",
    "            nn.ReLU(),\n",
    "            nn.Conv1d(out_channels, out_channels, kernel_size=kernel_size, padding=padding),\n",
    "            nn.LayerNorm((out_channels, seq_len)),\n",
    "        )\n",
    "        if self.use_relu:\n",
    "            self.c.add_module('relu', nn.ReLU())\n",
    "        if p_dropout is not None:\n",
    "            self.c.add_module('dropout', nn.Dropout(p=p_dropout))\n",
    "\n",
    "        self.identity = nn.Sequential(\n",
    "            nn.Conv1d(in_channels, out_channels, kernel_size=1),\n",
    "            nn.LayerNorm((out_channels, seq_len))\n",
    "        )\n",
    "        self.relu = nn.ReLU()\n",
    "\n",
    "    def forward(self, x):\n",
    "        x = self.c(x) + self.identity(x)\n",
    "        return self.relu(x) if self.use_relu else x\n",
    "\n",
    "# pytorch model with transformer encoder\n",
    "class TransformerEncoder(nn.Module):\n",
    "    def __init__(self):\n",
    "        super(TransformerEncoder, self).__init__()\n",
    "        self.e = nn.Sequential(\n",
    "            ResBlockMAE(in_channels, enc_dims[0], 9, 'same', winsize),\n",
    "            *[ResBlockMAE(self.enc_dims[i], self.enc_dims[i+1], 3, 'same', winsize, p_dropout=p_dropout) for i in range(len(self.enc_dims)-1)]\n",
    "        )\n",
    "        self.transformer_encoder = nn.TransformerEncoder(\n",
    "            nn.TransformerEncoderLayer(3, 1, 2048, 0.1, batch_first=True), \n",
    "            1,\n",
    "            enable_nested_tensor=False\n",
    "        )\n",
    "\n",
    "    def forward(self, x):\n",
    "        x = self.transformer_encoder(x)\n",
    "        return x"
   ]
  },
  {
   "cell_type": "code",
   "execution_count": 53,
   "metadata": {},
   "outputs": [
    {
     "name": "stdout",
     "output_type": "stream",
     "text": [
      "transformer_encoder.layers.0.self_attn.in_proj_weight :  torch.Size([9, 3])\n",
      "transformer_encoder.layers.0.self_attn.in_proj_bias :  torch.Size([9])\n",
      "transformer_encoder.layers.0.self_attn.out_proj.weight :  torch.Size([3, 3])\n",
      "transformer_encoder.layers.0.self_attn.out_proj.bias :  torch.Size([3])\n",
      "transformer_encoder.layers.0.linear1.weight :  torch.Size([2048, 3])\n",
      "transformer_encoder.layers.0.linear1.bias :  torch.Size([2048])\n",
      "transformer_encoder.layers.0.linear2.weight :  torch.Size([3, 2048])\n",
      "transformer_encoder.layers.0.linear2.bias :  torch.Size([3])\n",
      "transformer_encoder.layers.0.norm1.weight :  torch.Size([3])\n",
      "transformer_encoder.layers.0.norm1.bias :  torch.Size([3])\n",
      "transformer_encoder.layers.0.norm2.weight :  torch.Size([3])\n",
      "transformer_encoder.layers.0.norm2.bias :  torch.Size([3])\n"
     ]
    }
   ],
   "source": [
    "model = TransformerEncoder()\n",
    "for k,v in model.state_dict().items():\n",
    "    print(k,': ',v.shape)"
   ]
  },
  {
   "cell_type": "code",
   "execution_count": 54,
   "metadata": {},
   "outputs": [],
   "source": [
    "t = torch.Tensor(32, 1001, 3)\n",
    "x = model(t)"
   ]
  }
 ],
 "metadata": {
  "kernelspec": {
   "display_name": "env",
   "language": "python",
   "name": "python3"
  },
  "language_info": {
   "codemirror_mode": {
    "name": "ipython",
    "version": 3
   },
   "file_extension": ".py",
   "mimetype": "text/x-python",
   "name": "python",
   "nbconvert_exporter": "python",
   "pygments_lexer": "ipython3",
   "version": "3.10.12"
  }
 },
 "nbformat": 4,
 "nbformat_minor": 2
}
